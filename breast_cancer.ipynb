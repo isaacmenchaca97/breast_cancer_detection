{
  "cells": [
    {
      "cell_type": "markdown",
      "metadata": {
        "colab_type": "text",
        "id": "view-in-github"
      },
      "source": [
        "<a href=\"https://colab.research.google.com/github/isaacmenchaca97/breast_cancer_detection/blob/main/breast_cancer.ipynb\" target=\"_parent\"><img src=\"https://colab.research.google.com/assets/colab-badge.svg\" alt=\"Open In Colab\"/></a>"
      ]
    },
    {
      "cell_type": "code",
      "execution_count": 1,
      "metadata": {
        "colab": {
          "base_uri": "https://localhost:8080/"
        },
        "id": "_KtJpTwYwxOW",
        "outputId": "d7898770-e262-447d-9621-10fbf61c5038"
      },
      "outputs": [
        {
          "name": "stdout",
          "output_type": "stream",
          "text": [
            "Requirement already satisfied: pandas in ./.venv/lib/python3.9/site-packages (from -r requirements.txt (line 1)) (2.2.3)\n",
            "Requirement already satisfied: numpy in ./.venv/lib/python3.9/site-packages (from -r requirements.txt (line 2)) (2.0.2)\n",
            "Requirement already satisfied: matplotlib in ./.venv/lib/python3.9/site-packages (from -r requirements.txt (line 3)) (3.9.4)\n",
            "Requirement already satisfied: seaborn in ./.venv/lib/python3.9/site-packages (from -r requirements.txt (line 4)) (0.13.2)\n",
            "Requirement already satisfied: mlflow in ./.venv/lib/python3.9/site-packages (from -r requirements.txt (line 5)) (2.20.3)\n",
            "Requirement already satisfied: scikit-learn in ./.venv/lib/python3.9/site-packages (from -r requirements.txt (line 6)) (1.6.1)\n",
            "Requirement already satisfied: scipy in ./.venv/lib/python3.9/site-packages (from -r requirements.txt (line 7)) (1.13.1)\n",
            "Collecting pytest (from -r requirements.txt (line 8))\n",
            "  Downloading pytest-8.3.5-py3-none-any.whl.metadata (7.6 kB)\n",
            "Requirement already satisfied: python-dateutil>=2.8.2 in ./.venv/lib/python3.9/site-packages (from pandas->-r requirements.txt (line 1)) (2.9.0.post0)\n",
            "Requirement already satisfied: pytz>=2020.1 in ./.venv/lib/python3.9/site-packages (from pandas->-r requirements.txt (line 1)) (2025.1)\n",
            "Requirement already satisfied: tzdata>=2022.7 in ./.venv/lib/python3.9/site-packages (from pandas->-r requirements.txt (line 1)) (2025.1)\n",
            "Requirement already satisfied: contourpy>=1.0.1 in ./.venv/lib/python3.9/site-packages (from matplotlib->-r requirements.txt (line 3)) (1.3.0)\n",
            "Requirement already satisfied: cycler>=0.10 in ./.venv/lib/python3.9/site-packages (from matplotlib->-r requirements.txt (line 3)) (0.12.1)\n",
            "Requirement already satisfied: fonttools>=4.22.0 in ./.venv/lib/python3.9/site-packages (from matplotlib->-r requirements.txt (line 3)) (4.56.0)\n",
            "Requirement already satisfied: kiwisolver>=1.3.1 in ./.venv/lib/python3.9/site-packages (from matplotlib->-r requirements.txt (line 3)) (1.4.7)\n",
            "Requirement already satisfied: packaging>=20.0 in ./.venv/lib/python3.9/site-packages (from matplotlib->-r requirements.txt (line 3)) (24.2)\n",
            "Requirement already satisfied: pillow>=8 in ./.venv/lib/python3.9/site-packages (from matplotlib->-r requirements.txt (line 3)) (11.1.0)\n",
            "Requirement already satisfied: pyparsing>=2.3.1 in ./.venv/lib/python3.9/site-packages (from matplotlib->-r requirements.txt (line 3)) (3.2.1)\n",
            "Requirement already satisfied: importlib-resources>=3.2.0 in ./.venv/lib/python3.9/site-packages (from matplotlib->-r requirements.txt (line 3)) (6.5.2)\n",
            "Requirement already satisfied: mlflow-skinny==2.20.3 in ./.venv/lib/python3.9/site-packages (from mlflow->-r requirements.txt (line 5)) (2.20.3)\n",
            "Requirement already satisfied: Flask<4 in ./.venv/lib/python3.9/site-packages (from mlflow->-r requirements.txt (line 5)) (3.1.0)\n",
            "Requirement already satisfied: Jinja2<4,>=2.11 in ./.venv/lib/python3.9/site-packages (from mlflow->-r requirements.txt (line 5)) (3.1.6)\n",
            "Requirement already satisfied: alembic!=1.10.0,<2 in ./.venv/lib/python3.9/site-packages (from mlflow->-r requirements.txt (line 5)) (1.15.1)\n",
            "Requirement already satisfied: docker<8,>=4.0.0 in ./.venv/lib/python3.9/site-packages (from mlflow->-r requirements.txt (line 5)) (7.1.0)\n",
            "Requirement already satisfied: graphene<4 in ./.venv/lib/python3.9/site-packages (from mlflow->-r requirements.txt (line 5)) (3.4.3)\n",
            "Requirement already satisfied: gunicorn<24 in ./.venv/lib/python3.9/site-packages (from mlflow->-r requirements.txt (line 5)) (23.0.0)\n",
            "Requirement already satisfied: markdown<4,>=3.3 in ./.venv/lib/python3.9/site-packages (from mlflow->-r requirements.txt (line 5)) (3.7)\n",
            "Requirement already satisfied: pyarrow<20,>=4.0.0 in ./.venv/lib/python3.9/site-packages (from mlflow->-r requirements.txt (line 5)) (19.0.1)\n",
            "Requirement already satisfied: sqlalchemy<3,>=1.4.0 in ./.venv/lib/python3.9/site-packages (from mlflow->-r requirements.txt (line 5)) (2.0.38)\n",
            "Requirement already satisfied: cachetools<6,>=5.0.0 in ./.venv/lib/python3.9/site-packages (from mlflow-skinny==2.20.3->mlflow->-r requirements.txt (line 5)) (5.5.2)\n",
            "Requirement already satisfied: click<9,>=7.0 in ./.venv/lib/python3.9/site-packages (from mlflow-skinny==2.20.3->mlflow->-r requirements.txt (line 5)) (8.1.8)\n",
            "Requirement already satisfied: cloudpickle<4 in ./.venv/lib/python3.9/site-packages (from mlflow-skinny==2.20.3->mlflow->-r requirements.txt (line 5)) (3.1.1)\n",
            "Requirement already satisfied: databricks-sdk<1,>=0.20.0 in ./.venv/lib/python3.9/site-packages (from mlflow-skinny==2.20.3->mlflow->-r requirements.txt (line 5)) (0.45.0)\n",
            "Requirement already satisfied: gitpython<4,>=3.1.9 in ./.venv/lib/python3.9/site-packages (from mlflow-skinny==2.20.3->mlflow->-r requirements.txt (line 5)) (3.1.44)\n",
            "Requirement already satisfied: importlib_metadata!=4.7.0,<9,>=3.7.0 in ./.venv/lib/python3.9/site-packages (from mlflow-skinny==2.20.3->mlflow->-r requirements.txt (line 5)) (8.5.0)\n",
            "Requirement already satisfied: opentelemetry-api<3,>=1.9.0 in ./.venv/lib/python3.9/site-packages (from mlflow-skinny==2.20.3->mlflow->-r requirements.txt (line 5)) (1.30.0)\n",
            "Requirement already satisfied: opentelemetry-sdk<3,>=1.9.0 in ./.venv/lib/python3.9/site-packages (from mlflow-skinny==2.20.3->mlflow->-r requirements.txt (line 5)) (1.30.0)\n",
            "Requirement already satisfied: protobuf<6,>=3.12.0 in ./.venv/lib/python3.9/site-packages (from mlflow-skinny==2.20.3->mlflow->-r requirements.txt (line 5)) (5.29.3)\n",
            "Requirement already satisfied: pydantic<3,>=1.10.8 in ./.venv/lib/python3.9/site-packages (from mlflow-skinny==2.20.3->mlflow->-r requirements.txt (line 5)) (2.10.6)\n",
            "Requirement already satisfied: pyyaml<7,>=5.1 in ./.venv/lib/python3.9/site-packages (from mlflow-skinny==2.20.3->mlflow->-r requirements.txt (line 5)) (6.0.2)\n",
            "Requirement already satisfied: requests<3,>=2.17.3 in ./.venv/lib/python3.9/site-packages (from mlflow-skinny==2.20.3->mlflow->-r requirements.txt (line 5)) (2.32.3)\n",
            "Requirement already satisfied: sqlparse<1,>=0.4.0 in ./.venv/lib/python3.9/site-packages (from mlflow-skinny==2.20.3->mlflow->-r requirements.txt (line 5)) (0.5.3)\n",
            "Requirement already satisfied: typing-extensions<5,>=4.0.0 in ./.venv/lib/python3.9/site-packages (from mlflow-skinny==2.20.3->mlflow->-r requirements.txt (line 5)) (4.12.2)\n",
            "Requirement already satisfied: joblib>=1.2.0 in ./.venv/lib/python3.9/site-packages (from scikit-learn->-r requirements.txt (line 6)) (1.4.2)\n",
            "Requirement already satisfied: threadpoolctl>=3.1.0 in ./.venv/lib/python3.9/site-packages (from scikit-learn->-r requirements.txt (line 6)) (3.5.0)\n",
            "Requirement already satisfied: exceptiongroup>=1.0.0rc8 in ./.venv/lib/python3.9/site-packages (from pytest->-r requirements.txt (line 8)) (1.2.2)\n",
            "Collecting iniconfig (from pytest->-r requirements.txt (line 8))\n",
            "  Downloading iniconfig-2.1.0-py3-none-any.whl.metadata (2.7 kB)\n",
            "Collecting pluggy<2,>=1.5 (from pytest->-r requirements.txt (line 8))\n",
            "  Downloading pluggy-1.5.0-py3-none-any.whl.metadata (4.8 kB)\n",
            "Requirement already satisfied: tomli>=1 in ./.venv/lib/python3.9/site-packages (from pytest->-r requirements.txt (line 8)) (2.2.1)\n",
            "Requirement already satisfied: Mako in ./.venv/lib/python3.9/site-packages (from alembic!=1.10.0,<2->mlflow->-r requirements.txt (line 5)) (1.3.9)\n",
            "Requirement already satisfied: urllib3>=1.26.0 in ./.venv/lib/python3.9/site-packages (from docker<8,>=4.0.0->mlflow->-r requirements.txt (line 5)) (1.26.20)\n",
            "Requirement already satisfied: Werkzeug>=3.1 in ./.venv/lib/python3.9/site-packages (from Flask<4->mlflow->-r requirements.txt (line 5)) (3.1.3)\n",
            "Requirement already satisfied: itsdangerous>=2.2 in ./.venv/lib/python3.9/site-packages (from Flask<4->mlflow->-r requirements.txt (line 5)) (2.2.0)\n",
            "Requirement already satisfied: blinker>=1.9 in ./.venv/lib/python3.9/site-packages (from Flask<4->mlflow->-r requirements.txt (line 5)) (1.9.0)\n",
            "Requirement already satisfied: graphql-core<3.3,>=3.1 in ./.venv/lib/python3.9/site-packages (from graphene<4->mlflow->-r requirements.txt (line 5)) (3.2.4)\n",
            "Requirement already satisfied: graphql-relay<3.3,>=3.1 in ./.venv/lib/python3.9/site-packages (from graphene<4->mlflow->-r requirements.txt (line 5)) (3.2.0)\n",
            "Requirement already satisfied: zipp>=3.1.0 in ./.venv/lib/python3.9/site-packages (from importlib-resources>=3.2.0->matplotlib->-r requirements.txt (line 3)) (3.21.0)\n",
            "Requirement already satisfied: MarkupSafe>=2.0 in ./.venv/lib/python3.9/site-packages (from Jinja2<4,>=2.11->mlflow->-r requirements.txt (line 5)) (3.0.2)\n",
            "Requirement already satisfied: six>=1.5 in ./.venv/lib/python3.9/site-packages (from python-dateutil>=2.8.2->pandas->-r requirements.txt (line 1)) (1.17.0)\n",
            "Requirement already satisfied: greenlet!=0.4.17 in ./.venv/lib/python3.9/site-packages (from sqlalchemy<3,>=1.4.0->mlflow->-r requirements.txt (line 5)) (3.1.1)\n",
            "Requirement already satisfied: google-auth~=2.0 in ./.venv/lib/python3.9/site-packages (from databricks-sdk<1,>=0.20.0->mlflow-skinny==2.20.3->mlflow->-r requirements.txt (line 5)) (2.38.0)\n",
            "Requirement already satisfied: gitdb<5,>=4.0.1 in ./.venv/lib/python3.9/site-packages (from gitpython<4,>=3.1.9->mlflow-skinny==2.20.3->mlflow->-r requirements.txt (line 5)) (4.0.12)\n",
            "Requirement already satisfied: deprecated>=1.2.6 in ./.venv/lib/python3.9/site-packages (from opentelemetry-api<3,>=1.9.0->mlflow-skinny==2.20.3->mlflow->-r requirements.txt (line 5)) (1.2.18)\n",
            "Requirement already satisfied: opentelemetry-semantic-conventions==0.51b0 in ./.venv/lib/python3.9/site-packages (from opentelemetry-sdk<3,>=1.9.0->mlflow-skinny==2.20.3->mlflow->-r requirements.txt (line 5)) (0.51b0)\n",
            "Requirement already satisfied: annotated-types>=0.6.0 in ./.venv/lib/python3.9/site-packages (from pydantic<3,>=1.10.8->mlflow-skinny==2.20.3->mlflow->-r requirements.txt (line 5)) (0.7.0)\n",
            "Requirement already satisfied: pydantic-core==2.27.2 in ./.venv/lib/python3.9/site-packages (from pydantic<3,>=1.10.8->mlflow-skinny==2.20.3->mlflow->-r requirements.txt (line 5)) (2.27.2)\n",
            "Requirement already satisfied: charset-normalizer<4,>=2 in ./.venv/lib/python3.9/site-packages (from requests<3,>=2.17.3->mlflow-skinny==2.20.3->mlflow->-r requirements.txt (line 5)) (3.4.1)\n",
            "Requirement already satisfied: idna<4,>=2.5 in ./.venv/lib/python3.9/site-packages (from requests<3,>=2.17.3->mlflow-skinny==2.20.3->mlflow->-r requirements.txt (line 5)) (3.10)\n",
            "Requirement already satisfied: certifi>=2017.4.17 in ./.venv/lib/python3.9/site-packages (from requests<3,>=2.17.3->mlflow-skinny==2.20.3->mlflow->-r requirements.txt (line 5)) (2025.1.31)\n",
            "Requirement already satisfied: wrapt<2,>=1.10 in ./.venv/lib/python3.9/site-packages (from deprecated>=1.2.6->opentelemetry-api<3,>=1.9.0->mlflow-skinny==2.20.3->mlflow->-r requirements.txt (line 5)) (1.17.2)\n",
            "Requirement already satisfied: smmap<6,>=3.0.1 in ./.venv/lib/python3.9/site-packages (from gitdb<5,>=4.0.1->gitpython<4,>=3.1.9->mlflow-skinny==2.20.3->mlflow->-r requirements.txt (line 5)) (5.0.2)\n",
            "Requirement already satisfied: pyasn1-modules>=0.2.1 in ./.venv/lib/python3.9/site-packages (from google-auth~=2.0->databricks-sdk<1,>=0.20.0->mlflow-skinny==2.20.3->mlflow->-r requirements.txt (line 5)) (0.4.1)\n",
            "Requirement already satisfied: rsa<5,>=3.1.4 in ./.venv/lib/python3.9/site-packages (from google-auth~=2.0->databricks-sdk<1,>=0.20.0->mlflow-skinny==2.20.3->mlflow->-r requirements.txt (line 5)) (4.9)\n",
            "Requirement already satisfied: pyasn1<0.7.0,>=0.4.6 in ./.venv/lib/python3.9/site-packages (from pyasn1-modules>=0.2.1->google-auth~=2.0->databricks-sdk<1,>=0.20.0->mlflow-skinny==2.20.3->mlflow->-r requirements.txt (line 5)) (0.6.1)\n",
            "Downloading pytest-8.3.5-py3-none-any.whl (343 kB)\n",
            "Downloading pluggy-1.5.0-py3-none-any.whl (20 kB)\n",
            "Downloading iniconfig-2.1.0-py3-none-any.whl (6.0 kB)\n",
            "Installing collected packages: pluggy, iniconfig, pytest\n",
            "Successfully installed iniconfig-2.1.0 pluggy-1.5.0 pytest-8.3.5\n",
            "Note: you may need to restart the kernel to use updated packages.\n"
          ]
        }
      ],
      "source": [
        "%pip install -r requirements.txt"
      ]
    },
    {
      "cell_type": "code",
      "execution_count": null,
      "metadata": {
        "id": "e0LoMjazwxOw"
      },
      "outputs": [],
      "source": [
        "# Data preparation\n",
        "# ========================================================================\n",
        "import pandas as pd\n",
        "import numpy as np\n",
        "from scipy import stats\n",
        "\n",
        "# Graph\n",
        "# ========================================================================\n",
        "import matplotlib.pyplot as plt\n",
        "from matplotlib import style\n",
        "import seaborn as sns\n",
        "plt.style.use('ggplot')\n",
        "\n",
        "# MLFlow\n",
        "# ========================================================================\n",
        "import mlflow\n",
        "import mlflow.sklearn\n",
        "import dagshub\n",
        "\n",
        "# Sklearn\n",
        "# ========================================================================\n",
        "from sklearn.datasets import load_breast_cancer\n",
        "from sklearn.pipeline import make_pipeline\n",
        "from sklearn.preprocessing import MinMaxScaler\n",
        "from sklearn.model_selection import train_test_split, cross_val_score\n",
        "from sklearn.discriminant_analysis import LinearDiscriminantAnalysis\n",
        "from sklearn.decomposition import PCA\n",
        "\n",
        "# Models\n",
        "from sklearn.neighbors import KNeighborsClassifier\n",
        "from sklearn.svm import SVC\n",
        "from sklearn.ensemble import GradientBoostingClassifier, RandomForestClassifier\n",
        "from sklearn.tree import DecisionTreeClassifier\n",
        "from sklearn.linear_model import LogisticRegression\n",
        "\n",
        "# Model Performance Evaluators\n",
        "from sklearn.metrics import accuracy_score, precision_score, recall_score, f1_score, roc_auc_score, confusion_matrix, roc_curve, classification_report\n"
      ]
    },
    {
      "cell_type": "markdown",
      "metadata": {
        "id": "G8bwyQB_wxOy"
      },
      "source": [
        "### Loading the data"
      ]
    },
    {
      "cell_type": "code",
      "execution_count": 3,
      "metadata": {
        "colab": {
          "base_uri": "https://localhost:8080/"
        },
        "id": "n91hNvkYwxO2",
        "outputId": "e8f07936-194a-4469-c596-0be35672c2d7"
      },
      "outputs": [
        {
          "data": {
            "application/vnd.microsoft.datawrangler.viewer.v0+json": {
              "columns": [
                {
                  "name": "index",
                  "rawType": "int64",
                  "type": "integer"
                },
                {
                  "name": "mean_radius",
                  "rawType": "float64",
                  "type": "float"
                },
                {
                  "name": "mean_texture",
                  "rawType": "float64",
                  "type": "float"
                },
                {
                  "name": "mean_perimeter",
                  "rawType": "float64",
                  "type": "float"
                },
                {
                  "name": "mean_area",
                  "rawType": "float64",
                  "type": "float"
                },
                {
                  "name": "mean_smoothness",
                  "rawType": "float64",
                  "type": "float"
                },
                {
                  "name": "mean_compactness",
                  "rawType": "float64",
                  "type": "float"
                },
                {
                  "name": "mean_concavity",
                  "rawType": "float64",
                  "type": "float"
                },
                {
                  "name": "mean_concave_points",
                  "rawType": "float64",
                  "type": "float"
                },
                {
                  "name": "mean_symmetry",
                  "rawType": "float64",
                  "type": "float"
                },
                {
                  "name": "mean_fractal_dimension",
                  "rawType": "float64",
                  "type": "float"
                },
                {
                  "name": "radius_error",
                  "rawType": "float64",
                  "type": "float"
                },
                {
                  "name": "texture_error",
                  "rawType": "float64",
                  "type": "float"
                },
                {
                  "name": "perimeter_error",
                  "rawType": "float64",
                  "type": "float"
                },
                {
                  "name": "area_error",
                  "rawType": "float64",
                  "type": "float"
                },
                {
                  "name": "smoothness_error",
                  "rawType": "float64",
                  "type": "float"
                },
                {
                  "name": "compactness_error",
                  "rawType": "float64",
                  "type": "float"
                },
                {
                  "name": "concavity_error",
                  "rawType": "float64",
                  "type": "float"
                },
                {
                  "name": "concave_points_error",
                  "rawType": "float64",
                  "type": "float"
                },
                {
                  "name": "symmetry_error",
                  "rawType": "float64",
                  "type": "float"
                },
                {
                  "name": "fractal_dimension_error",
                  "rawType": "float64",
                  "type": "float"
                },
                {
                  "name": "worst_radius",
                  "rawType": "float64",
                  "type": "float"
                },
                {
                  "name": "worst_texture",
                  "rawType": "float64",
                  "type": "float"
                },
                {
                  "name": "worst_perimeter",
                  "rawType": "float64",
                  "type": "float"
                },
                {
                  "name": "worst_area",
                  "rawType": "float64",
                  "type": "float"
                },
                {
                  "name": "worst_smoothness",
                  "rawType": "float64",
                  "type": "float"
                },
                {
                  "name": "worst_compactness",
                  "rawType": "float64",
                  "type": "float"
                },
                {
                  "name": "worst_concavity",
                  "rawType": "float64",
                  "type": "float"
                },
                {
                  "name": "worst_concave_points",
                  "rawType": "float64",
                  "type": "float"
                },
                {
                  "name": "worst_symmetry",
                  "rawType": "float64",
                  "type": "float"
                },
                {
                  "name": "worst_fractal_dimension",
                  "rawType": "float64",
                  "type": "float"
                },
                {
                  "name": "target",
                  "rawType": "int64",
                  "type": "integer"
                }
              ],
              "conversionMethod": "pd.DataFrame",
              "ref": "45a94d17-025a-49bc-830b-331a39781210",
              "rows": [
                [
                  "0",
                  "17.99",
                  "10.38",
                  "122.8",
                  "1001.0",
                  "0.1184",
                  "0.2776",
                  "0.3001",
                  "0.1471",
                  "0.2419",
                  "0.07871",
                  "1.095",
                  "0.9053",
                  "8.589",
                  "153.4",
                  "0.006399",
                  "0.04904",
                  "0.05373",
                  "0.01587",
                  "0.03003",
                  "0.006193",
                  "25.38",
                  "17.33",
                  "184.6",
                  "2019.0",
                  "0.1622",
                  "0.6656",
                  "0.7119",
                  "0.2654",
                  "0.4601",
                  "0.1189",
                  "0"
                ],
                [
                  "1",
                  "20.57",
                  "17.77",
                  "132.9",
                  "1326.0",
                  "0.08474",
                  "0.07864",
                  "0.0869",
                  "0.07017",
                  "0.1812",
                  "0.05667",
                  "0.5435",
                  "0.7339",
                  "3.398",
                  "74.08",
                  "0.005225",
                  "0.01308",
                  "0.0186",
                  "0.0134",
                  "0.01389",
                  "0.003532",
                  "24.99",
                  "23.41",
                  "158.8",
                  "1956.0",
                  "0.1238",
                  "0.1866",
                  "0.2416",
                  "0.186",
                  "0.275",
                  "0.08902",
                  "0"
                ],
                [
                  "2",
                  "19.69",
                  "21.25",
                  "130.0",
                  "1203.0",
                  "0.1096",
                  "0.1599",
                  "0.1974",
                  "0.1279",
                  "0.2069",
                  "0.05999",
                  "0.7456",
                  "0.7869",
                  "4.585",
                  "94.03",
                  "0.00615",
                  "0.04006",
                  "0.03832",
                  "0.02058",
                  "0.0225",
                  "0.004571",
                  "23.57",
                  "25.53",
                  "152.5",
                  "1709.0",
                  "0.1444",
                  "0.4245",
                  "0.4504",
                  "0.243",
                  "0.3613",
                  "0.08758",
                  "0"
                ],
                [
                  "3",
                  "11.42",
                  "20.38",
                  "77.58",
                  "386.1",
                  "0.1425",
                  "0.2839",
                  "0.2414",
                  "0.1052",
                  "0.2597",
                  "0.09744",
                  "0.4956",
                  "1.156",
                  "3.445",
                  "27.23",
                  "0.00911",
                  "0.07458",
                  "0.05661",
                  "0.01867",
                  "0.05963",
                  "0.009208",
                  "14.91",
                  "26.5",
                  "98.87",
                  "567.7",
                  "0.2098",
                  "0.8663",
                  "0.6869",
                  "0.2575",
                  "0.6638",
                  "0.173",
                  "0"
                ],
                [
                  "4",
                  "20.29",
                  "14.34",
                  "135.1",
                  "1297.0",
                  "0.1003",
                  "0.1328",
                  "0.198",
                  "0.1043",
                  "0.1809",
                  "0.05883",
                  "0.7572",
                  "0.7813",
                  "5.438",
                  "94.44",
                  "0.01149",
                  "0.02461",
                  "0.05688",
                  "0.01885",
                  "0.01756",
                  "0.005115",
                  "22.54",
                  "16.67",
                  "152.2",
                  "1575.0",
                  "0.1374",
                  "0.205",
                  "0.4",
                  "0.1625",
                  "0.2364",
                  "0.07678",
                  "0"
                ]
              ],
              "shape": {
                "columns": 31,
                "rows": 5
              }
            },
            "text/html": [
              "<div>\n",
              "<style scoped>\n",
              "    .dataframe tbody tr th:only-of-type {\n",
              "        vertical-align: middle;\n",
              "    }\n",
              "\n",
              "    .dataframe tbody tr th {\n",
              "        vertical-align: top;\n",
              "    }\n",
              "\n",
              "    .dataframe thead th {\n",
              "        text-align: right;\n",
              "    }\n",
              "</style>\n",
              "<table border=\"1\" class=\"dataframe\">\n",
              "  <thead>\n",
              "    <tr style=\"text-align: right;\">\n",
              "      <th></th>\n",
              "      <th>mean_radius</th>\n",
              "      <th>mean_texture</th>\n",
              "      <th>mean_perimeter</th>\n",
              "      <th>mean_area</th>\n",
              "      <th>mean_smoothness</th>\n",
              "      <th>mean_compactness</th>\n",
              "      <th>mean_concavity</th>\n",
              "      <th>mean_concave_points</th>\n",
              "      <th>mean_symmetry</th>\n",
              "      <th>mean_fractal_dimension</th>\n",
              "      <th>...</th>\n",
              "      <th>worst_texture</th>\n",
              "      <th>worst_perimeter</th>\n",
              "      <th>worst_area</th>\n",
              "      <th>worst_smoothness</th>\n",
              "      <th>worst_compactness</th>\n",
              "      <th>worst_concavity</th>\n",
              "      <th>worst_concave_points</th>\n",
              "      <th>worst_symmetry</th>\n",
              "      <th>worst_fractal_dimension</th>\n",
              "      <th>target</th>\n",
              "    </tr>\n",
              "  </thead>\n",
              "  <tbody>\n",
              "    <tr>\n",
              "      <th>0</th>\n",
              "      <td>17.99</td>\n",
              "      <td>10.38</td>\n",
              "      <td>122.80</td>\n",
              "      <td>1001.0</td>\n",
              "      <td>0.11840</td>\n",
              "      <td>0.27760</td>\n",
              "      <td>0.3001</td>\n",
              "      <td>0.14710</td>\n",
              "      <td>0.2419</td>\n",
              "      <td>0.07871</td>\n",
              "      <td>...</td>\n",
              "      <td>17.33</td>\n",
              "      <td>184.60</td>\n",
              "      <td>2019.0</td>\n",
              "      <td>0.1622</td>\n",
              "      <td>0.6656</td>\n",
              "      <td>0.7119</td>\n",
              "      <td>0.2654</td>\n",
              "      <td>0.4601</td>\n",
              "      <td>0.11890</td>\n",
              "      <td>0</td>\n",
              "    </tr>\n",
              "    <tr>\n",
              "      <th>1</th>\n",
              "      <td>20.57</td>\n",
              "      <td>17.77</td>\n",
              "      <td>132.90</td>\n",
              "      <td>1326.0</td>\n",
              "      <td>0.08474</td>\n",
              "      <td>0.07864</td>\n",
              "      <td>0.0869</td>\n",
              "      <td>0.07017</td>\n",
              "      <td>0.1812</td>\n",
              "      <td>0.05667</td>\n",
              "      <td>...</td>\n",
              "      <td>23.41</td>\n",
              "      <td>158.80</td>\n",
              "      <td>1956.0</td>\n",
              "      <td>0.1238</td>\n",
              "      <td>0.1866</td>\n",
              "      <td>0.2416</td>\n",
              "      <td>0.1860</td>\n",
              "      <td>0.2750</td>\n",
              "      <td>0.08902</td>\n",
              "      <td>0</td>\n",
              "    </tr>\n",
              "    <tr>\n",
              "      <th>2</th>\n",
              "      <td>19.69</td>\n",
              "      <td>21.25</td>\n",
              "      <td>130.00</td>\n",
              "      <td>1203.0</td>\n",
              "      <td>0.10960</td>\n",
              "      <td>0.15990</td>\n",
              "      <td>0.1974</td>\n",
              "      <td>0.12790</td>\n",
              "      <td>0.2069</td>\n",
              "      <td>0.05999</td>\n",
              "      <td>...</td>\n",
              "      <td>25.53</td>\n",
              "      <td>152.50</td>\n",
              "      <td>1709.0</td>\n",
              "      <td>0.1444</td>\n",
              "      <td>0.4245</td>\n",
              "      <td>0.4504</td>\n",
              "      <td>0.2430</td>\n",
              "      <td>0.3613</td>\n",
              "      <td>0.08758</td>\n",
              "      <td>0</td>\n",
              "    </tr>\n",
              "    <tr>\n",
              "      <th>3</th>\n",
              "      <td>11.42</td>\n",
              "      <td>20.38</td>\n",
              "      <td>77.58</td>\n",
              "      <td>386.1</td>\n",
              "      <td>0.14250</td>\n",
              "      <td>0.28390</td>\n",
              "      <td>0.2414</td>\n",
              "      <td>0.10520</td>\n",
              "      <td>0.2597</td>\n",
              "      <td>0.09744</td>\n",
              "      <td>...</td>\n",
              "      <td>26.50</td>\n",
              "      <td>98.87</td>\n",
              "      <td>567.7</td>\n",
              "      <td>0.2098</td>\n",
              "      <td>0.8663</td>\n",
              "      <td>0.6869</td>\n",
              "      <td>0.2575</td>\n",
              "      <td>0.6638</td>\n",
              "      <td>0.17300</td>\n",
              "      <td>0</td>\n",
              "    </tr>\n",
              "    <tr>\n",
              "      <th>4</th>\n",
              "      <td>20.29</td>\n",
              "      <td>14.34</td>\n",
              "      <td>135.10</td>\n",
              "      <td>1297.0</td>\n",
              "      <td>0.10030</td>\n",
              "      <td>0.13280</td>\n",
              "      <td>0.1980</td>\n",
              "      <td>0.10430</td>\n",
              "      <td>0.1809</td>\n",
              "      <td>0.05883</td>\n",
              "      <td>...</td>\n",
              "      <td>16.67</td>\n",
              "      <td>152.20</td>\n",
              "      <td>1575.0</td>\n",
              "      <td>0.1374</td>\n",
              "      <td>0.2050</td>\n",
              "      <td>0.4000</td>\n",
              "      <td>0.1625</td>\n",
              "      <td>0.2364</td>\n",
              "      <td>0.07678</td>\n",
              "      <td>0</td>\n",
              "    </tr>\n",
              "  </tbody>\n",
              "</table>\n",
              "<p>5 rows × 31 columns</p>\n",
              "</div>"
            ],
            "text/plain": [
              "   mean_radius  mean_texture  mean_perimeter  mean_area  mean_smoothness  \\\n",
              "0        17.99         10.38          122.80     1001.0          0.11840   \n",
              "1        20.57         17.77          132.90     1326.0          0.08474   \n",
              "2        19.69         21.25          130.00     1203.0          0.10960   \n",
              "3        11.42         20.38           77.58      386.1          0.14250   \n",
              "4        20.29         14.34          135.10     1297.0          0.10030   \n",
              "\n",
              "   mean_compactness  mean_concavity  mean_concave_points  mean_symmetry  \\\n",
              "0           0.27760          0.3001              0.14710         0.2419   \n",
              "1           0.07864          0.0869              0.07017         0.1812   \n",
              "2           0.15990          0.1974              0.12790         0.2069   \n",
              "3           0.28390          0.2414              0.10520         0.2597   \n",
              "4           0.13280          0.1980              0.10430         0.1809   \n",
              "\n",
              "   mean_fractal_dimension  ...  worst_texture  worst_perimeter  worst_area  \\\n",
              "0                 0.07871  ...          17.33           184.60      2019.0   \n",
              "1                 0.05667  ...          23.41           158.80      1956.0   \n",
              "2                 0.05999  ...          25.53           152.50      1709.0   \n",
              "3                 0.09744  ...          26.50            98.87       567.7   \n",
              "4                 0.05883  ...          16.67           152.20      1575.0   \n",
              "\n",
              "   worst_smoothness  worst_compactness  worst_concavity  worst_concave_points  \\\n",
              "0            0.1622             0.6656           0.7119                0.2654   \n",
              "1            0.1238             0.1866           0.2416                0.1860   \n",
              "2            0.1444             0.4245           0.4504                0.2430   \n",
              "3            0.2098             0.8663           0.6869                0.2575   \n",
              "4            0.1374             0.2050           0.4000                0.1625   \n",
              "\n",
              "   worst_symmetry  worst_fractal_dimension  target  \n",
              "0          0.4601                  0.11890       0  \n",
              "1          0.2750                  0.08902       0  \n",
              "2          0.3613                  0.08758       0  \n",
              "3          0.6638                  0.17300       0  \n",
              "4          0.2364                  0.07678       0  \n",
              "\n",
              "[5 rows x 31 columns]"
            ]
          },
          "execution_count": 3,
          "metadata": {},
          "output_type": "execute_result"
        }
      ],
      "source": [
        "data = load_breast_cancer()\n",
        "df = pd.DataFrame(data=data.data, columns=data.feature_names)\n",
        "df['target'] = data.target\n",
        "df.columns = df.columns.str.lower().str.replace(\" \", \"_\")\n",
        "df.head()"
      ]
    },
    {
      "cell_type": "markdown",
      "metadata": {
        "id": "m6y_orM4wxO4"
      },
      "source": [
        "### Exploratory Data Analysis aka EDA"
      ]
    },
    {
      "cell_type": "code",
      "execution_count": 4,
      "metadata": {
        "colab": {
          "base_uri": "https://localhost:8080/"
        },
        "id": "__LFt9LbwxO6",
        "outputId": "9bbe5c66-a3b6-4d63-85c8-2647fde1d0bb"
      },
      "outputs": [
        {
          "name": "stdout",
          "output_type": "stream",
          "text": [
            "<class 'pandas.core.frame.DataFrame'>\n",
            "RangeIndex: 569 entries, 0 to 568\n",
            "Data columns (total 31 columns):\n",
            " #   Column                   Non-Null Count  Dtype  \n",
            "---  ------                   --------------  -----  \n",
            " 0   mean_radius              569 non-null    float64\n",
            " 1   mean_texture             569 non-null    float64\n",
            " 2   mean_perimeter           569 non-null    float64\n",
            " 3   mean_area                569 non-null    float64\n",
            " 4   mean_smoothness          569 non-null    float64\n",
            " 5   mean_compactness         569 non-null    float64\n",
            " 6   mean_concavity           569 non-null    float64\n",
            " 7   mean_concave_points      569 non-null    float64\n",
            " 8   mean_symmetry            569 non-null    float64\n",
            " 9   mean_fractal_dimension   569 non-null    float64\n",
            " 10  radius_error             569 non-null    float64\n",
            " 11  texture_error            569 non-null    float64\n",
            " 12  perimeter_error          569 non-null    float64\n",
            " 13  area_error               569 non-null    float64\n",
            " 14  smoothness_error         569 non-null    float64\n",
            " 15  compactness_error        569 non-null    float64\n",
            " 16  concavity_error          569 non-null    float64\n",
            " 17  concave_points_error     569 non-null    float64\n",
            " 18  symmetry_error           569 non-null    float64\n",
            " 19  fractal_dimension_error  569 non-null    float64\n",
            " 20  worst_radius             569 non-null    float64\n",
            " 21  worst_texture            569 non-null    float64\n",
            " 22  worst_perimeter          569 non-null    float64\n",
            " 23  worst_area               569 non-null    float64\n",
            " 24  worst_smoothness         569 non-null    float64\n",
            " 25  worst_compactness        569 non-null    float64\n",
            " 26  worst_concavity          569 non-null    float64\n",
            " 27  worst_concave_points     569 non-null    float64\n",
            " 28  worst_symmetry           569 non-null    float64\n",
            " 29  worst_fractal_dimension  569 non-null    float64\n",
            " 30  target                   569 non-null    int64  \n",
            "dtypes: float64(30), int64(1)\n",
            "memory usage: 137.9 KB\n"
          ]
        }
      ],
      "source": [
        "df.info()"
      ]
    },
    {
      "cell_type": "code",
      "execution_count": 5,
      "metadata": {
        "colab": {
          "base_uri": "https://localhost:8080/"
        },
        "id": "mnrE1nO9wxO8",
        "outputId": "9f646b0c-bc74-4974-9d54-ed2955b85d62"
      },
      "outputs": [
        {
          "data": {
            "text/plain": [
              "float64    30\n",
              "int64       1\n",
              "Name: count, dtype: int64"
            ]
          },
          "execution_count": 5,
          "metadata": {},
          "output_type": "execute_result"
        }
      ],
      "source": [
        "df.dtypes.value_counts()"
      ]
    },
    {
      "cell_type": "code",
      "execution_count": 6,
      "metadata": {
        "colab": {
          "base_uri": "https://localhost:8080/"
        },
        "id": "qPehseZNwxO-",
        "outputId": "99d4c3b3-92fa-4448-928c-dcc10fb9c00e"
      },
      "outputs": [
        {
          "data": {
            "application/vnd.microsoft.datawrangler.viewer.v0+json": {
              "columns": [
                {
                  "name": "index",
                  "rawType": "object",
                  "type": "string"
                },
                {
                  "name": "count",
                  "rawType": "float64",
                  "type": "float"
                },
                {
                  "name": "mean",
                  "rawType": "float64",
                  "type": "float"
                },
                {
                  "name": "std",
                  "rawType": "float64",
                  "type": "float"
                },
                {
                  "name": "min",
                  "rawType": "float64",
                  "type": "float"
                },
                {
                  "name": "25%",
                  "rawType": "float64",
                  "type": "float"
                },
                {
                  "name": "50%",
                  "rawType": "float64",
                  "type": "float"
                },
                {
                  "name": "75%",
                  "rawType": "float64",
                  "type": "float"
                },
                {
                  "name": "max",
                  "rawType": "float64",
                  "type": "float"
                }
              ],
              "conversionMethod": "pd.DataFrame",
              "ref": "8bd2991d-41e8-4de4-9e30-616acb845717",
              "rows": [
                [
                  "mean_radius",
                  "569.0",
                  "14.127291739894552",
                  "3.5240488262120775",
                  "6.981",
                  "11.7",
                  "13.37",
                  "15.78",
                  "28.11"
                ],
                [
                  "mean_texture",
                  "569.0",
                  "19.289648506151142",
                  "4.301035768166949",
                  "9.71",
                  "16.17",
                  "18.84",
                  "21.8",
                  "39.28"
                ],
                [
                  "mean_perimeter",
                  "569.0",
                  "91.96903339191564",
                  "24.298981038754906",
                  "43.79",
                  "75.17",
                  "86.24",
                  "104.1",
                  "188.5"
                ],
                [
                  "mean_area",
                  "569.0",
                  "654.8891036906855",
                  "351.914129181653",
                  "143.5",
                  "420.3",
                  "551.1",
                  "782.7",
                  "2501.0"
                ],
                [
                  "mean_smoothness",
                  "569.0",
                  "0.0963602811950791",
                  "0.01406412813767362",
                  "0.05263",
                  "0.08637",
                  "0.09587",
                  "0.1053",
                  "0.1634"
                ],
                [
                  "mean_compactness",
                  "569.0",
                  "0.10434098418277679",
                  "0.052812757932512194",
                  "0.01938",
                  "0.06492",
                  "0.09263",
                  "0.1304",
                  "0.3454"
                ],
                [
                  "mean_concavity",
                  "569.0",
                  "0.0887993158172232",
                  "0.07971980870789348",
                  "0.0",
                  "0.02956",
                  "0.06154",
                  "0.1307",
                  "0.4268"
                ],
                [
                  "mean_concave_points",
                  "569.0",
                  "0.04891914586994728",
                  "0.038802844859153605",
                  "0.0",
                  "0.02031",
                  "0.0335",
                  "0.074",
                  "0.2012"
                ],
                [
                  "mean_symmetry",
                  "569.0",
                  "0.18116186291739894",
                  "0.027414281336035715",
                  "0.106",
                  "0.1619",
                  "0.1792",
                  "0.1957",
                  "0.304"
                ],
                [
                  "mean_fractal_dimension",
                  "569.0",
                  "0.06279760984182776",
                  "0.007060362795084459",
                  "0.04996",
                  "0.0577",
                  "0.06154",
                  "0.06612",
                  "0.09744"
                ],
                [
                  "radius_error",
                  "569.0",
                  "0.40517205623901575",
                  "0.2773127329861039",
                  "0.1115",
                  "0.2324",
                  "0.3242",
                  "0.4789",
                  "2.873"
                ],
                [
                  "texture_error",
                  "569.0",
                  "1.2168534270650264",
                  "0.5516483926172023",
                  "0.3602",
                  "0.8339",
                  "1.108",
                  "1.474",
                  "4.885"
                ],
                [
                  "perimeter_error",
                  "569.0",
                  "2.8660592267135327",
                  "2.0218545540421076",
                  "0.757",
                  "1.606",
                  "2.287",
                  "3.357",
                  "21.98"
                ],
                [
                  "area_error",
                  "569.0",
                  "40.337079086116",
                  "45.49100551613181",
                  "6.802",
                  "17.85",
                  "24.53",
                  "45.19",
                  "542.2"
                ],
                [
                  "smoothness_error",
                  "569.0",
                  "0.007040978910369069",
                  "0.0030025179438390656",
                  "0.001713",
                  "0.005169",
                  "0.00638",
                  "0.008146",
                  "0.03113"
                ],
                [
                  "compactness_error",
                  "569.0",
                  "0.025478138840070295",
                  "0.017908179325677388",
                  "0.002252",
                  "0.01308",
                  "0.02045",
                  "0.03245",
                  "0.1354"
                ],
                [
                  "concavity_error",
                  "569.0",
                  "0.03189371634446397",
                  "0.03018606032298841",
                  "0.0",
                  "0.01509",
                  "0.02589",
                  "0.04205",
                  "0.396"
                ],
                [
                  "concave_points_error",
                  "569.0",
                  "0.011796137082601054",
                  "0.006170285174046869",
                  "0.0",
                  "0.007638",
                  "0.01093",
                  "0.01471",
                  "0.05279"
                ],
                [
                  "symmetry_error",
                  "569.0",
                  "0.02054229876977153",
                  "0.008266371528798399",
                  "0.007882",
                  "0.01516",
                  "0.01873",
                  "0.02348",
                  "0.07895"
                ],
                [
                  "fractal_dimension_error",
                  "569.0",
                  "0.0037949038664323374",
                  "0.002646070967089195",
                  "0.0008948",
                  "0.002248",
                  "0.003187",
                  "0.004558",
                  "0.02984"
                ],
                [
                  "worst_radius",
                  "569.0",
                  "16.269189806678387",
                  "4.833241580469323",
                  "7.93",
                  "13.01",
                  "14.97",
                  "18.79",
                  "36.04"
                ],
                [
                  "worst_texture",
                  "569.0",
                  "25.677223198594024",
                  "6.146257623038319",
                  "12.02",
                  "21.08",
                  "25.41",
                  "29.72",
                  "49.54"
                ],
                [
                  "worst_perimeter",
                  "569.0",
                  "107.26121265377857",
                  "33.602542269036356",
                  "50.41",
                  "84.11",
                  "97.66",
                  "125.4",
                  "251.2"
                ],
                [
                  "worst_area",
                  "569.0",
                  "880.5831282952548",
                  "569.356992669949",
                  "185.2",
                  "515.3",
                  "686.5",
                  "1084.0",
                  "4254.0"
                ],
                [
                  "worst_smoothness",
                  "569.0",
                  "0.13236859402460457",
                  "0.022832429404835465",
                  "0.07117",
                  "0.1166",
                  "0.1313",
                  "0.146",
                  "0.2226"
                ],
                [
                  "worst_compactness",
                  "569.0",
                  "0.25426504393673116",
                  "0.157336488913742",
                  "0.02729",
                  "0.1472",
                  "0.2119",
                  "0.3391",
                  "1.058"
                ],
                [
                  "worst_concavity",
                  "569.0",
                  "0.27218848330404216",
                  "0.2086242806081323",
                  "0.0",
                  "0.1145",
                  "0.2267",
                  "0.3829",
                  "1.252"
                ],
                [
                  "worst_concave_points",
                  "569.0",
                  "0.11460622319859401",
                  "0.06573234119594207",
                  "0.0",
                  "0.06493",
                  "0.09993",
                  "0.1614",
                  "0.291"
                ],
                [
                  "worst_symmetry",
                  "569.0",
                  "0.2900755711775044",
                  "0.061867467537518685",
                  "0.1565",
                  "0.2504",
                  "0.2822",
                  "0.3179",
                  "0.6638"
                ],
                [
                  "worst_fractal_dimension",
                  "569.0",
                  "0.0839458172231986",
                  "0.018061267348893986",
                  "0.05504",
                  "0.07146",
                  "0.08004",
                  "0.09208",
                  "0.2075"
                ],
                [
                  "target",
                  "569.0",
                  "0.6274165202108963",
                  "0.48391795640316865",
                  "0.0",
                  "0.0",
                  "1.0",
                  "1.0",
                  "1.0"
                ]
              ],
              "shape": {
                "columns": 8,
                "rows": 31
              }
            },
            "text/html": [
              "<div>\n",
              "<style scoped>\n",
              "    .dataframe tbody tr th:only-of-type {\n",
              "        vertical-align: middle;\n",
              "    }\n",
              "\n",
              "    .dataframe tbody tr th {\n",
              "        vertical-align: top;\n",
              "    }\n",
              "\n",
              "    .dataframe thead th {\n",
              "        text-align: right;\n",
              "    }\n",
              "</style>\n",
              "<table border=\"1\" class=\"dataframe\">\n",
              "  <thead>\n",
              "    <tr style=\"text-align: right;\">\n",
              "      <th></th>\n",
              "      <th>count</th>\n",
              "      <th>mean</th>\n",
              "      <th>std</th>\n",
              "      <th>min</th>\n",
              "      <th>25%</th>\n",
              "      <th>50%</th>\n",
              "      <th>75%</th>\n",
              "      <th>max</th>\n",
              "    </tr>\n",
              "  </thead>\n",
              "  <tbody>\n",
              "    <tr>\n",
              "      <th>mean_radius</th>\n",
              "      <td>569.0</td>\n",
              "      <td>14.127292</td>\n",
              "      <td>3.524049</td>\n",
              "      <td>6.981000</td>\n",
              "      <td>11.700000</td>\n",
              "      <td>13.370000</td>\n",
              "      <td>15.780000</td>\n",
              "      <td>28.11000</td>\n",
              "    </tr>\n",
              "    <tr>\n",
              "      <th>mean_texture</th>\n",
              "      <td>569.0</td>\n",
              "      <td>19.289649</td>\n",
              "      <td>4.301036</td>\n",
              "      <td>9.710000</td>\n",
              "      <td>16.170000</td>\n",
              "      <td>18.840000</td>\n",
              "      <td>21.800000</td>\n",
              "      <td>39.28000</td>\n",
              "    </tr>\n",
              "    <tr>\n",
              "      <th>mean_perimeter</th>\n",
              "      <td>569.0</td>\n",
              "      <td>91.969033</td>\n",
              "      <td>24.298981</td>\n",
              "      <td>43.790000</td>\n",
              "      <td>75.170000</td>\n",
              "      <td>86.240000</td>\n",
              "      <td>104.100000</td>\n",
              "      <td>188.50000</td>\n",
              "    </tr>\n",
              "    <tr>\n",
              "      <th>mean_area</th>\n",
              "      <td>569.0</td>\n",
              "      <td>654.889104</td>\n",
              "      <td>351.914129</td>\n",
              "      <td>143.500000</td>\n",
              "      <td>420.300000</td>\n",
              "      <td>551.100000</td>\n",
              "      <td>782.700000</td>\n",
              "      <td>2501.00000</td>\n",
              "    </tr>\n",
              "    <tr>\n",
              "      <th>mean_smoothness</th>\n",
              "      <td>569.0</td>\n",
              "      <td>0.096360</td>\n",
              "      <td>0.014064</td>\n",
              "      <td>0.052630</td>\n",
              "      <td>0.086370</td>\n",
              "      <td>0.095870</td>\n",
              "      <td>0.105300</td>\n",
              "      <td>0.16340</td>\n",
              "    </tr>\n",
              "    <tr>\n",
              "      <th>mean_compactness</th>\n",
              "      <td>569.0</td>\n",
              "      <td>0.104341</td>\n",
              "      <td>0.052813</td>\n",
              "      <td>0.019380</td>\n",
              "      <td>0.064920</td>\n",
              "      <td>0.092630</td>\n",
              "      <td>0.130400</td>\n",
              "      <td>0.34540</td>\n",
              "    </tr>\n",
              "    <tr>\n",
              "      <th>mean_concavity</th>\n",
              "      <td>569.0</td>\n",
              "      <td>0.088799</td>\n",
              "      <td>0.079720</td>\n",
              "      <td>0.000000</td>\n",
              "      <td>0.029560</td>\n",
              "      <td>0.061540</td>\n",
              "      <td>0.130700</td>\n",
              "      <td>0.42680</td>\n",
              "    </tr>\n",
              "    <tr>\n",
              "      <th>mean_concave_points</th>\n",
              "      <td>569.0</td>\n",
              "      <td>0.048919</td>\n",
              "      <td>0.038803</td>\n",
              "      <td>0.000000</td>\n",
              "      <td>0.020310</td>\n",
              "      <td>0.033500</td>\n",
              "      <td>0.074000</td>\n",
              "      <td>0.20120</td>\n",
              "    </tr>\n",
              "    <tr>\n",
              "      <th>mean_symmetry</th>\n",
              "      <td>569.0</td>\n",
              "      <td>0.181162</td>\n",
              "      <td>0.027414</td>\n",
              "      <td>0.106000</td>\n",
              "      <td>0.161900</td>\n",
              "      <td>0.179200</td>\n",
              "      <td>0.195700</td>\n",
              "      <td>0.30400</td>\n",
              "    </tr>\n",
              "    <tr>\n",
              "      <th>mean_fractal_dimension</th>\n",
              "      <td>569.0</td>\n",
              "      <td>0.062798</td>\n",
              "      <td>0.007060</td>\n",
              "      <td>0.049960</td>\n",
              "      <td>0.057700</td>\n",
              "      <td>0.061540</td>\n",
              "      <td>0.066120</td>\n",
              "      <td>0.09744</td>\n",
              "    </tr>\n",
              "    <tr>\n",
              "      <th>radius_error</th>\n",
              "      <td>569.0</td>\n",
              "      <td>0.405172</td>\n",
              "      <td>0.277313</td>\n",
              "      <td>0.111500</td>\n",
              "      <td>0.232400</td>\n",
              "      <td>0.324200</td>\n",
              "      <td>0.478900</td>\n",
              "      <td>2.87300</td>\n",
              "    </tr>\n",
              "    <tr>\n",
              "      <th>texture_error</th>\n",
              "      <td>569.0</td>\n",
              "      <td>1.216853</td>\n",
              "      <td>0.551648</td>\n",
              "      <td>0.360200</td>\n",
              "      <td>0.833900</td>\n",
              "      <td>1.108000</td>\n",
              "      <td>1.474000</td>\n",
              "      <td>4.88500</td>\n",
              "    </tr>\n",
              "    <tr>\n",
              "      <th>perimeter_error</th>\n",
              "      <td>569.0</td>\n",
              "      <td>2.866059</td>\n",
              "      <td>2.021855</td>\n",
              "      <td>0.757000</td>\n",
              "      <td>1.606000</td>\n",
              "      <td>2.287000</td>\n",
              "      <td>3.357000</td>\n",
              "      <td>21.98000</td>\n",
              "    </tr>\n",
              "    <tr>\n",
              "      <th>area_error</th>\n",
              "      <td>569.0</td>\n",
              "      <td>40.337079</td>\n",
              "      <td>45.491006</td>\n",
              "      <td>6.802000</td>\n",
              "      <td>17.850000</td>\n",
              "      <td>24.530000</td>\n",
              "      <td>45.190000</td>\n",
              "      <td>542.20000</td>\n",
              "    </tr>\n",
              "    <tr>\n",
              "      <th>smoothness_error</th>\n",
              "      <td>569.0</td>\n",
              "      <td>0.007041</td>\n",
              "      <td>0.003003</td>\n",
              "      <td>0.001713</td>\n",
              "      <td>0.005169</td>\n",
              "      <td>0.006380</td>\n",
              "      <td>0.008146</td>\n",
              "      <td>0.03113</td>\n",
              "    </tr>\n",
              "    <tr>\n",
              "      <th>compactness_error</th>\n",
              "      <td>569.0</td>\n",
              "      <td>0.025478</td>\n",
              "      <td>0.017908</td>\n",
              "      <td>0.002252</td>\n",
              "      <td>0.013080</td>\n",
              "      <td>0.020450</td>\n",
              "      <td>0.032450</td>\n",
              "      <td>0.13540</td>\n",
              "    </tr>\n",
              "    <tr>\n",
              "      <th>concavity_error</th>\n",
              "      <td>569.0</td>\n",
              "      <td>0.031894</td>\n",
              "      <td>0.030186</td>\n",
              "      <td>0.000000</td>\n",
              "      <td>0.015090</td>\n",
              "      <td>0.025890</td>\n",
              "      <td>0.042050</td>\n",
              "      <td>0.39600</td>\n",
              "    </tr>\n",
              "    <tr>\n",
              "      <th>concave_points_error</th>\n",
              "      <td>569.0</td>\n",
              "      <td>0.011796</td>\n",
              "      <td>0.006170</td>\n",
              "      <td>0.000000</td>\n",
              "      <td>0.007638</td>\n",
              "      <td>0.010930</td>\n",
              "      <td>0.014710</td>\n",
              "      <td>0.05279</td>\n",
              "    </tr>\n",
              "    <tr>\n",
              "      <th>symmetry_error</th>\n",
              "      <td>569.0</td>\n",
              "      <td>0.020542</td>\n",
              "      <td>0.008266</td>\n",
              "      <td>0.007882</td>\n",
              "      <td>0.015160</td>\n",
              "      <td>0.018730</td>\n",
              "      <td>0.023480</td>\n",
              "      <td>0.07895</td>\n",
              "    </tr>\n",
              "    <tr>\n",
              "      <th>fractal_dimension_error</th>\n",
              "      <td>569.0</td>\n",
              "      <td>0.003795</td>\n",
              "      <td>0.002646</td>\n",
              "      <td>0.000895</td>\n",
              "      <td>0.002248</td>\n",
              "      <td>0.003187</td>\n",
              "      <td>0.004558</td>\n",
              "      <td>0.02984</td>\n",
              "    </tr>\n",
              "    <tr>\n",
              "      <th>worst_radius</th>\n",
              "      <td>569.0</td>\n",
              "      <td>16.269190</td>\n",
              "      <td>4.833242</td>\n",
              "      <td>7.930000</td>\n",
              "      <td>13.010000</td>\n",
              "      <td>14.970000</td>\n",
              "      <td>18.790000</td>\n",
              "      <td>36.04000</td>\n",
              "    </tr>\n",
              "    <tr>\n",
              "      <th>worst_texture</th>\n",
              "      <td>569.0</td>\n",
              "      <td>25.677223</td>\n",
              "      <td>6.146258</td>\n",
              "      <td>12.020000</td>\n",
              "      <td>21.080000</td>\n",
              "      <td>25.410000</td>\n",
              "      <td>29.720000</td>\n",
              "      <td>49.54000</td>\n",
              "    </tr>\n",
              "    <tr>\n",
              "      <th>worst_perimeter</th>\n",
              "      <td>569.0</td>\n",
              "      <td>107.261213</td>\n",
              "      <td>33.602542</td>\n",
              "      <td>50.410000</td>\n",
              "      <td>84.110000</td>\n",
              "      <td>97.660000</td>\n",
              "      <td>125.400000</td>\n",
              "      <td>251.20000</td>\n",
              "    </tr>\n",
              "    <tr>\n",
              "      <th>worst_area</th>\n",
              "      <td>569.0</td>\n",
              "      <td>880.583128</td>\n",
              "      <td>569.356993</td>\n",
              "      <td>185.200000</td>\n",
              "      <td>515.300000</td>\n",
              "      <td>686.500000</td>\n",
              "      <td>1084.000000</td>\n",
              "      <td>4254.00000</td>\n",
              "    </tr>\n",
              "    <tr>\n",
              "      <th>worst_smoothness</th>\n",
              "      <td>569.0</td>\n",
              "      <td>0.132369</td>\n",
              "      <td>0.022832</td>\n",
              "      <td>0.071170</td>\n",
              "      <td>0.116600</td>\n",
              "      <td>0.131300</td>\n",
              "      <td>0.146000</td>\n",
              "      <td>0.22260</td>\n",
              "    </tr>\n",
              "    <tr>\n",
              "      <th>worst_compactness</th>\n",
              "      <td>569.0</td>\n",
              "      <td>0.254265</td>\n",
              "      <td>0.157336</td>\n",
              "      <td>0.027290</td>\n",
              "      <td>0.147200</td>\n",
              "      <td>0.211900</td>\n",
              "      <td>0.339100</td>\n",
              "      <td>1.05800</td>\n",
              "    </tr>\n",
              "    <tr>\n",
              "      <th>worst_concavity</th>\n",
              "      <td>569.0</td>\n",
              "      <td>0.272188</td>\n",
              "      <td>0.208624</td>\n",
              "      <td>0.000000</td>\n",
              "      <td>0.114500</td>\n",
              "      <td>0.226700</td>\n",
              "      <td>0.382900</td>\n",
              "      <td>1.25200</td>\n",
              "    </tr>\n",
              "    <tr>\n",
              "      <th>worst_concave_points</th>\n",
              "      <td>569.0</td>\n",
              "      <td>0.114606</td>\n",
              "      <td>0.065732</td>\n",
              "      <td>0.000000</td>\n",
              "      <td>0.064930</td>\n",
              "      <td>0.099930</td>\n",
              "      <td>0.161400</td>\n",
              "      <td>0.29100</td>\n",
              "    </tr>\n",
              "    <tr>\n",
              "      <th>worst_symmetry</th>\n",
              "      <td>569.0</td>\n",
              "      <td>0.290076</td>\n",
              "      <td>0.061867</td>\n",
              "      <td>0.156500</td>\n",
              "      <td>0.250400</td>\n",
              "      <td>0.282200</td>\n",
              "      <td>0.317900</td>\n",
              "      <td>0.66380</td>\n",
              "    </tr>\n",
              "    <tr>\n",
              "      <th>worst_fractal_dimension</th>\n",
              "      <td>569.0</td>\n",
              "      <td>0.083946</td>\n",
              "      <td>0.018061</td>\n",
              "      <td>0.055040</td>\n",
              "      <td>0.071460</td>\n",
              "      <td>0.080040</td>\n",
              "      <td>0.092080</td>\n",
              "      <td>0.20750</td>\n",
              "    </tr>\n",
              "    <tr>\n",
              "      <th>target</th>\n",
              "      <td>569.0</td>\n",
              "      <td>0.627417</td>\n",
              "      <td>0.483918</td>\n",
              "      <td>0.000000</td>\n",
              "      <td>0.000000</td>\n",
              "      <td>1.000000</td>\n",
              "      <td>1.000000</td>\n",
              "      <td>1.00000</td>\n",
              "    </tr>\n",
              "  </tbody>\n",
              "</table>\n",
              "</div>"
            ],
            "text/plain": [
              "                         count        mean         std         min  \\\n",
              "mean_radius              569.0   14.127292    3.524049    6.981000   \n",
              "mean_texture             569.0   19.289649    4.301036    9.710000   \n",
              "mean_perimeter           569.0   91.969033   24.298981   43.790000   \n",
              "mean_area                569.0  654.889104  351.914129  143.500000   \n",
              "mean_smoothness          569.0    0.096360    0.014064    0.052630   \n",
              "mean_compactness         569.0    0.104341    0.052813    0.019380   \n",
              "mean_concavity           569.0    0.088799    0.079720    0.000000   \n",
              "mean_concave_points      569.0    0.048919    0.038803    0.000000   \n",
              "mean_symmetry            569.0    0.181162    0.027414    0.106000   \n",
              "mean_fractal_dimension   569.0    0.062798    0.007060    0.049960   \n",
              "radius_error             569.0    0.405172    0.277313    0.111500   \n",
              "texture_error            569.0    1.216853    0.551648    0.360200   \n",
              "perimeter_error          569.0    2.866059    2.021855    0.757000   \n",
              "area_error               569.0   40.337079   45.491006    6.802000   \n",
              "smoothness_error         569.0    0.007041    0.003003    0.001713   \n",
              "compactness_error        569.0    0.025478    0.017908    0.002252   \n",
              "concavity_error          569.0    0.031894    0.030186    0.000000   \n",
              "concave_points_error     569.0    0.011796    0.006170    0.000000   \n",
              "symmetry_error           569.0    0.020542    0.008266    0.007882   \n",
              "fractal_dimension_error  569.0    0.003795    0.002646    0.000895   \n",
              "worst_radius             569.0   16.269190    4.833242    7.930000   \n",
              "worst_texture            569.0   25.677223    6.146258   12.020000   \n",
              "worst_perimeter          569.0  107.261213   33.602542   50.410000   \n",
              "worst_area               569.0  880.583128  569.356993  185.200000   \n",
              "worst_smoothness         569.0    0.132369    0.022832    0.071170   \n",
              "worst_compactness        569.0    0.254265    0.157336    0.027290   \n",
              "worst_concavity          569.0    0.272188    0.208624    0.000000   \n",
              "worst_concave_points     569.0    0.114606    0.065732    0.000000   \n",
              "worst_symmetry           569.0    0.290076    0.061867    0.156500   \n",
              "worst_fractal_dimension  569.0    0.083946    0.018061    0.055040   \n",
              "target                   569.0    0.627417    0.483918    0.000000   \n",
              "\n",
              "                                25%         50%          75%         max  \n",
              "mean_radius               11.700000   13.370000    15.780000    28.11000  \n",
              "mean_texture              16.170000   18.840000    21.800000    39.28000  \n",
              "mean_perimeter            75.170000   86.240000   104.100000   188.50000  \n",
              "mean_area                420.300000  551.100000   782.700000  2501.00000  \n",
              "mean_smoothness            0.086370    0.095870     0.105300     0.16340  \n",
              "mean_compactness           0.064920    0.092630     0.130400     0.34540  \n",
              "mean_concavity             0.029560    0.061540     0.130700     0.42680  \n",
              "mean_concave_points        0.020310    0.033500     0.074000     0.20120  \n",
              "mean_symmetry              0.161900    0.179200     0.195700     0.30400  \n",
              "mean_fractal_dimension     0.057700    0.061540     0.066120     0.09744  \n",
              "radius_error               0.232400    0.324200     0.478900     2.87300  \n",
              "texture_error              0.833900    1.108000     1.474000     4.88500  \n",
              "perimeter_error            1.606000    2.287000     3.357000    21.98000  \n",
              "area_error                17.850000   24.530000    45.190000   542.20000  \n",
              "smoothness_error           0.005169    0.006380     0.008146     0.03113  \n",
              "compactness_error          0.013080    0.020450     0.032450     0.13540  \n",
              "concavity_error            0.015090    0.025890     0.042050     0.39600  \n",
              "concave_points_error       0.007638    0.010930     0.014710     0.05279  \n",
              "symmetry_error             0.015160    0.018730     0.023480     0.07895  \n",
              "fractal_dimension_error    0.002248    0.003187     0.004558     0.02984  \n",
              "worst_radius              13.010000   14.970000    18.790000    36.04000  \n",
              "worst_texture             21.080000   25.410000    29.720000    49.54000  \n",
              "worst_perimeter           84.110000   97.660000   125.400000   251.20000  \n",
              "worst_area               515.300000  686.500000  1084.000000  4254.00000  \n",
              "worst_smoothness           0.116600    0.131300     0.146000     0.22260  \n",
              "worst_compactness          0.147200    0.211900     0.339100     1.05800  \n",
              "worst_concavity            0.114500    0.226700     0.382900     1.25200  \n",
              "worst_concave_points       0.064930    0.099930     0.161400     0.29100  \n",
              "worst_symmetry             0.250400    0.282200     0.317900     0.66380  \n",
              "worst_fractal_dimension    0.071460    0.080040     0.092080     0.20750  \n",
              "target                     0.000000    1.000000     1.000000     1.00000  "
            ]
          },
          "execution_count": 6,
          "metadata": {},
          "output_type": "execute_result"
        }
      ],
      "source": [
        "df[df.columns].describe().T"
      ]
    },
    {
      "cell_type": "code",
      "execution_count": 7,
      "metadata": {
        "colab": {
          "base_uri": "https://localhost:8080/"
        },
        "id": "gqYR_BCZwxO_",
        "outputId": "7212df05-19b7-428f-aa9e-32167cf037a2"
      },
      "outputs": [
        {
          "data": {
            "image/png": "[encoded data removed]",
            "text/plain": [
              "<Figure size 640x480 with 1 Axes>"
            ]
          },
          "metadata": {},
          "output_type": "display_data"
        }
      ],
      "source": [
        "value_counts_df = (round(df.target.value_counts(normalize=True)*100,2)).reset_index()\n",
        "value_counts_df.columns = ['target', 'percentage']\n",
        "ax = sns.barplot(x=value_counts_df['target'], y=value_counts_df['percentage'], hue=value_counts_df['target'], dodge=False)\n",
        "ax.bar_label(ax.containers[0], fmt=\"%.2f%%\")\n",
        "ax.bar_label(ax.containers[1],fmt=\"%.2f%%\")\n",
        "plt.xticks(ticks=[0,1], labels=['benign', 'malignant'])\n",
        "plt.title('Distribution of Target Values', fontsize=18)\n",
        "plt.show()"
      ]
    },
    {
      "cell_type": "code",
      "execution_count": 8,
      "metadata": {
        "colab": {
          "base_uri": "https://localhost:8080/"
        },
        "id": "VlTAtkfnwxO_",
        "outputId": "81c063f2-e6a2-4916-fa16-fc17d3e2ed4b"
      },
      "outputs": [
        {
          "name": "stdout",
          "output_type": "stream",
          "text": [
            "ANOVA statistic: 646.98\n",
            "p-value: 8.47e-96\n",
            "\u001b[32mReject the null hypothesis: There is a significant relationship between mean_radius and target\n",
            "\u001b[0m\n",
            "ANOVA statistic: 118.1\n",
            "p-value: 4.06e-25\n",
            "\u001b[32mReject the null hypothesis: There is a significant relationship between mean_texture and target\n",
            "\u001b[0m\n",
            "ANOVA statistic: 697.24\n",
            "p-value: 8.44e-101\n",
            "\u001b[32mReject the null hypothesis: There is a significant relationship between mean_perimeter and target\n",
            "\u001b[0m\n",
            "ANOVA statistic: 573.06\n",
            "p-value: 4.73e-88\n",
            "\u001b[32mReject the null hypothesis: There is a significant relationship between mean_area and target\n",
            "\u001b[0m\n",
            "ANOVA statistic: 83.65\n",
            "p-value: 1.05e-18\n",
            "\u001b[32mReject the null hypothesis: There is a significant relationship between mean_smoothness and target\n",
            "\u001b[0m\n",
            "ANOVA statistic: 313.23\n",
            "p-value: 3.94e-56\n",
            "\u001b[32mReject the null hypothesis: There is a significant relationship between mean_compactness and target\n",
            "\u001b[0m\n",
            "ANOVA statistic: 533.79\n",
            "p-value: 9.97e-84\n",
            "\u001b[32mReject the null hypothesis: There is a significant relationship between mean_concavity and target\n",
            "\u001b[0m\n",
            "ANOVA statistic: 861.68\n",
            "p-value: 7.10e-116\n",
            "\u001b[32mReject the null hypothesis: There is a significant relationship between mean_concave_points and target\n",
            "\u001b[0m\n",
            "ANOVA statistic: 69.53\n",
            "p-value: 5.73e-16\n",
            "\u001b[32mReject the null hypothesis: There is a significant relationship between mean_symmetry and target\n",
            "\u001b[0m\n",
            "ANOVA statistic: 0.09\n",
            "p-value: 7.60e-01\n",
            "\u001b[31mNo significant relationship between mean_fractal_dimension and target\n",
            "\u001b[0m\n",
            "ANOVA statistic: 268.84\n",
            "p-value: 9.74e-50\n",
            "\u001b[32mReject the null hypothesis: There is a significant relationship between radius_error and target\n",
            "\u001b[0m\n",
            "ANOVA statistic: 0.04\n",
            "p-value: 8.43e-01\n",
            "\u001b[31mNo significant relationship between texture_error and target\n",
            "\u001b[0m\n",
            "ANOVA statistic: 253.9\n",
            "p-value: 1.65e-47\n",
            "\u001b[32mReject the null hypothesis: There is a significant relationship between perimeter_error and target\n",
            "\u001b[0m\n",
            "ANOVA statistic: 243.65\n",
            "p-value: 5.90e-46\n",
            "\u001b[32mReject the null hypothesis: There is a significant relationship between area_error and target\n",
            "\u001b[0m\n",
            "ANOVA statistic: 2.56\n",
            "p-value: 1.10e-01\n",
            "\u001b[31mNo significant relationship between smoothness_error and target\n",
            "\u001b[0m\n",
            "ANOVA statistic: 53.25\n",
            "p-value: 9.98e-13\n",
            "\u001b[32mReject the null hypothesis: There is a significant relationship between compactness_error and target\n",
            "\u001b[0m\n",
            "ANOVA statistic: 39.01\n",
            "p-value: 8.26e-10\n",
            "\u001b[32mReject the null hypothesis: There is a significant relationship between concavity_error and target\n",
            "\u001b[0m\n",
            "ANOVA statistic: 113.26\n",
            "p-value: 3.07e-24\n",
            "\u001b[32mReject the null hypothesis: There is a significant relationship between concave_points_error and target\n",
            "\u001b[0m\n",
            "ANOVA statistic: 0.02\n",
            "p-value: 8.77e-01\n",
            "\u001b[31mNo significant relationship between symmetry_error and target\n",
            "\u001b[0m\n",
            "ANOVA statistic: 3.47\n",
            "p-value: 6.31e-02\n",
            "\u001b[31mNo significant relationship between fractal_dimension_error and target\n",
            "\u001b[0m\n",
            "ANOVA statistic: 860.78\n",
            "p-value: 8.48e-116\n",
            "\u001b[32mReject the null hypothesis: There is a significant relationship between worst_radius and target\n",
            "\u001b[0m\n",
            "ANOVA statistic: 149.6\n",
            "p-value: 1.08e-30\n",
            "\u001b[32mReject the null hypothesis: There is a significant relationship between worst_texture and target\n",
            "\u001b[0m\n",
            "ANOVA statistic: 897.94\n",
            "p-value: 5.77e-119\n",
            "\u001b[32mReject the null hypothesis: There is a significant relationship between worst_perimeter and target\n",
            "\u001b[0m\n",
            "ANOVA statistic: 661.6\n",
            "p-value: 2.83e-97\n",
            "\u001b[32mReject the null hypothesis: There is a significant relationship between worst_area and target\n",
            "\u001b[0m\n",
            "ANOVA statistic: 122.47\n",
            "p-value: 6.58e-26\n",
            "\u001b[32mReject the null hypothesis: There is a significant relationship between worst_smoothness and target\n",
            "\u001b[0m\n",
            "ANOVA statistic: 304.34\n",
            "p-value: 7.07e-55\n",
            "\u001b[32mReject the null hypothesis: There is a significant relationship between worst_compactness and target\n",
            "\u001b[0m\n",
            "ANOVA statistic: 436.69\n",
            "p-value: 2.46e-72\n",
            "\u001b[32mReject the null hypothesis: There is a significant relationship between worst_concavity and target\n",
            "\u001b[0m\n",
            "ANOVA statistic: 964.39\n",
            "p-value: 1.97e-124\n",
            "\u001b[32mReject the null hypothesis: There is a significant relationship between worst_concave_points and target\n",
            "\u001b[0m\n",
            "ANOVA statistic: 118.86\n",
            "p-value: 2.95e-25\n",
            "\u001b[32mReject the null hypothesis: There is a significant relationship between worst_symmetry and target\n",
            "\u001b[0m\n",
            "ANOVA statistic: 66.44\n",
            "p-value: 2.32e-15\n",
            "\u001b[32mReject the null hypothesis: There is a significant relationship between worst_fractal_dimension and target\n",
            "\u001b[0m\n"
          ]
        }
      ],
      "source": [
        "num_cols = list(df.select_dtypes('float64').columns)\n",
        "unrelated_num_cols = []\n",
        "categorical_col = 'target'\n",
        "\n",
        "for i in num_cols:\n",
        "    # Perform Kruskal-Wallis test\n",
        "    grouped_data = [df[i][df[categorical_col] == category] for category in df[categorical_col].unique()]\n",
        "    statistic, p_value = stats.f_oneway(*grouped_data)\n",
        "\n",
        "    # Set the significance level (alpha)\n",
        "    alpha = 0.05\n",
        "\n",
        "    # Print the results with appropriate text color\n",
        "    if p_value < alpha:\n",
        "        print( f\"ANOVA statistic: {round(statistic, 2)}\")\n",
        "        print(f\"p-value: {p_value:.2e}\")\n",
        "        print(\"\\033[32m\" + f\"Reject the null hypothesis: There is a significant relationship between {i} and {categorical_col}\")\n",
        "        print(\"\\033[0m\")  # Reset text color to default\n",
        "    else:\n",
        "        print( f\"ANOVA statistic: {round(statistic, 2)}\")\n",
        "        print(f\"p-value: {p_value:.2e}\")\n",
        "        print(\"\\033[31m\" + f\"No significant relationship between {i} and {categorical_col}\")\n",
        "        print(\"\\033[0m\")  # Reset text color to default\n",
        "        unrelated_num_cols.append(i)"
      ]
    },
    {
      "cell_type": "code",
      "execution_count": 9,
      "metadata": {
        "colab": {
          "base_uri": "https://localhost:8080/"
        },
        "id": "-CgY20OEwxPA",
        "outputId": "cd0e7b5b-ad33-4589-9347-0221d3173c77"
      },
      "outputs": [
        {
          "name": "stdout",
          "output_type": "stream",
          "text": [
            "The columns that failed the ANOVA test are ['mean_fractal_dimension', 'texture_error', 'smoothness_error', 'symmetry_error', 'fractal_dimension_error']. These columns don't help in making predictions.\n"
          ]
        }
      ],
      "source": [
        "print(f'The columns that failed the ANOVA test are {unrelated_num_cols}. These columns don\\'t help in making predictions.')"
      ]
    },
    {
      "cell_type": "markdown",
      "metadata": {
        "id": "1YMNRvPxwxPC"
      },
      "source": [
        "### Data Pre-processing"
      ]
    },
    {
      "cell_type": "code",
      "execution_count": null,
      "metadata": {
        "colab": {
          "base_uri": "https://localhost:8080/"
        },
        "id": "dpOAqrb3wxPD",
        "outputId": "a7cf90d7-019e-4a8c-a553-0d9ee536fdeb"
      },
      "outputs": [
        {
          "data": {
            "text/plain": [
              "Index(['mean_radius', 'mean_texture', 'mean_perimeter', 'mean_area',\n",
              "       'mean_smoothness', 'mean_compactness', 'mean_concavity',\n",
              "       'mean_concave_points', 'mean_symmetry', 'radius_error',\n",
              "       'perimeter_error', 'area_error', 'compactness_error', 'concavity_error',\n",
              "       'concave_points_error', 'worst_radius', 'worst_texture',\n",
              "       'worst_perimeter', 'worst_area', 'worst_smoothness',\n",
              "       'worst_compactness', 'worst_concavity', 'worst_concave_points',\n",
              "       'worst_symmetry', 'worst_fractal_dimension', 'target'],\n",
              "      dtype='object')"
            ]
          },
          "execution_count": 10,
          "metadata": {},
          "output_type": "execute_result"
        }
      ],
      "source": [
        "df = df.drop(labels=unrelated_num_cols, axis=1)\n",
        "df.columns"
      ]
    },
    {
      "cell_type": "code",
      "execution_count": 11,
      "metadata": {
        "id": "mzV1njswwxPF"
      },
      "outputs": [],
      "source": [
        "X = df.drop(columns=['target'])\n",
        "y = df['target']\n",
        "\n",
        "X_train, X_test, y_train, y_test = train_test_split(X, y, test_size=0.20, random_state=42)"
      ]
    },
    {
      "cell_type": "code",
      "execution_count": 12,
      "metadata": {
        "colab": {
          "base_uri": "https://localhost:8080/"
        },
        "id": "9yBLtFr3PxN7",
        "outputId": "c19f8e23-1213-42ba-c911-83edefd3464f"
      },
      "outputs": [
        {
          "name": "stdout",
          "output_type": "stream",
          "text": [
            "X_train Shape - (455, 25) , y_train Shape - (455,)\n",
            "X_test shape - (114, 25) , y_test shape - (114,)\n"
          ]
        }
      ],
      "source": [
        "print('X_train Shape -',X_train.shape,',', 'y_train Shape -', y_train.shape)\n",
        "print('X_test shape -', X_test.shape,',','y_test shape -', y_test.shape)"
      ]
    },
    {
      "cell_type": "markdown",
      "metadata": {
        "id": "WXMCXsj5wxPI"
      },
      "source": [
        "### Principal Component Analysis (PCA)"
      ]
    },
    {
      "cell_type": "code",
      "execution_count": null,
      "metadata": {
        "id": "lqsOGsjncsqD"
      },
      "outputs": [],
      "source": [
        "pca_pipe = make_pipeline(MinMaxScaler(), PCA(random_state=42), memory=None)\n",
        "pca_pipe.fit(X)\n",
        "\n",
        "# Se extrae el modelo entrenado del pipeline\n",
        "model_pca = pca_pipe.named_steps['pca']"
      ]
    },
    {
      "cell_type": "code",
      "execution_count": 14,
      "metadata": {
        "colab": {
          "base_uri": "https://localhost:8080/"
        },
        "id": "k1lVRiHOwxPJ",
        "outputId": "3431f3b7-9069-4ed2-fc0f-ff352a07a405"
      },
      "outputs": [
        {
          "name": "stdout",
          "output_type": "stream",
          "text": [
            "At 1 PC, Explained Variance is 59.5%\n",
            "At 2 PC, Explained Variance is 74.83%\n",
            "At 3 PC, Explained Variance is 82.28%\n",
            "At 4 PC, Explained Variance is 87.3%\n",
            "At 5 PC, Explained Variance is 90.77%\n"
          ]
        }
      ],
      "source": [
        "prop_varianza_acum = model_pca.explained_variance_ratio_.cumsum()\n",
        "n_pca = 0\n",
        "for i in range(model_pca.n_components_):\n",
        "    if prop_varianza_acum[i]*100 < 92:\n",
        "        n_pca += 1\n",
        "        print(f'At {n_pca} PC, Explained Variance is {round(prop_varianza_acum[i]*100,2)}%')"
      ]
    },
    {
      "cell_type": "code",
      "execution_count": 15,
      "metadata": {
        "colab": {
          "base_uri": "https://localhost:8080/"
        },
        "id": "imikvyyAwxPJ",
        "outputId": "46c060b3-0f84-4803-e21b-ae65be3adca9"
      },
      "outputs": [
        {
          "data": {
            "image/png": "[encoded data removed]",
            "text/plain": [
              "<Figure size 600x400 with 1 Axes>"
            ]
          },
          "metadata": {},
          "output_type": "display_data"
        }
      ],
      "source": [
        "fig, ax = plt.subplots(nrows=1, ncols=1, figsize=(6, 4))\n",
        "ax.bar(\n",
        "    x      = np.arange(n_pca) + 1,\n",
        "    height = model_pca.explained_variance_ratio_[:n_pca],\n",
        ")\n",
        "\n",
        "for x, y_axis in zip(np.arange(n_pca) + 1, model_pca.explained_variance_ratio_[:n_pca]):\n",
        "    label = round(y_axis, 2)\n",
        "    ax.annotate(\n",
        "        label,\n",
        "        (x,y_axis),\n",
        "        textcoords=\"offset points\",\n",
        "        xytext=(0,10),\n",
        "        ha='center'\n",
        "    )\n",
        "\n",
        "ax.set_xticks(np.arange(n_pca) + 1)\n",
        "ax.set_ylim(0, 1.1)\n",
        "ax.set_title('Porcentaje de varianza explicada por cada componente')\n",
        "ax.set_xlabel('Componente principal')\n",
        "ax.set_ylabel('Por. varianza explicada');\n"
      ]
    },
    {
      "cell_type": "code",
      "execution_count": 16,
      "metadata": {
        "colab": {
          "base_uri": "https://localhost:8080/"
        },
        "id": "12BJmnqBwxPL",
        "outputId": "13db9a34-fc75-4f85-f8de-c5e4f882eae8"
      },
      "outputs": [
        {
          "name": "stdout",
          "output_type": "stream",
          "text": [
            "[0.59501941 0.74834484 0.82281042 0.87302617 0.90773815 0.93463044\n",
            " 0.94988493 0.96079605 0.97080502 0.97756904 0.98223264 0.98576041\n",
            " 0.98901659 0.99175811 0.99406284 0.99597394 0.99714047 0.99808642\n",
            " 0.99874701 0.99923814 0.99963744 0.99989128 0.99995833 0.99999314\n",
            " 1.        ]\n"
          ]
        },
        {
          "data": {
            "image/png": "[encoded data removed]",
            "text/plain": [
              "<Figure size 600x400 with 1 Axes>"
            ]
          },
          "metadata": {},
          "output_type": "display_data"
        }
      ],
      "source": [
        "prop_varianza_acum = model_pca.explained_variance_ratio_.cumsum()\n",
        "print(prop_varianza_acum)\n",
        "\n",
        "n_pca = 0\n",
        "for i in range(model_pca.n_components_):\n",
        "    if prop_varianza_acum[i]*100 < 92:\n",
        "        n_pca += 1\n",
        "\n",
        "fig, ax = plt.subplots(nrows=1, ncols=1, figsize=(6, 4))\n",
        "ax.plot(\n",
        "    np.arange(n_pca) + 1,\n",
        "    prop_varianza_acum[:n_pca],\n",
        "    marker = 'o'\n",
        ")\n",
        "\n",
        "for x, y_axis in zip(np.arange(n_pca) + 1, prop_varianza_acum[:n_pca]):\n",
        "    label = round(y_axis, 2)\n",
        "    ax.annotate(\n",
        "        label,\n",
        "        (x,y_axis),\n",
        "        textcoords=\"offset points\",\n",
        "        xytext=(0,10),\n",
        "        ha='center'\n",
        "    )\n",
        "\n",
        "ax.set_ylim(0, 1.1)\n",
        "ax.set_xticks(np.arange(n_pca) + 1)\n",
        "ax.set_title('Porcentaje de varianza explicada acumulada')\n",
        "ax.set_xlabel('Componente principal')\n",
        "ax.set_ylabel('Por. varianza acumulada');\n"
      ]
    },
    {
      "cell_type": "markdown",
      "metadata": {
        "id": "ucbeQnP3wxPN"
      },
      "source": [
        "### Handling class imbalance"
      ]
    },
    {
      "cell_type": "code",
      "execution_count": 17,
      "metadata": {
        "colab": {
          "base_uri": "https://localhost:8080/"
        },
        "id": "S76i_mSfwxPN",
        "outputId": "5341d26c-bbb2-44fb-9c34-e0523a8f960a"
      },
      "outputs": [
        {
          "name": "stdout",
          "output_type": "stream",
          "text": [
            "label: [0 1]\n",
            "counts: [212 357]\n",
            "=== CLASS WEIGHTS ===\n",
            "{np.int64(0): np.float64(1.684), np.int64(1): np.float64(1.0)}\n"
          ]
        }
      ],
      "source": [
        "label, counts = np.unique(y, return_counts=True)\n",
        "print(f\"label: {label}\\ncounts: {counts}\")\n",
        "# compute the class weights\n",
        "counts = max(counts) / counts\n",
        "class_weights = dict(zip(label, np.around(counts,3)))\n",
        "print('=== CLASS WEIGHTS ===')\n",
        "print(class_weights)"
      ]
    },
    {
      "cell_type": "markdown",
      "metadata": {
        "id": "sSlrQqu5wxPO"
      },
      "source": [
        "### Select model k-Fold Cross validation"
      ]
    },
    {
      "cell_type": "code",
      "execution_count": null,
      "metadata": {
        "id": "hihdM4gSwxPP"
      },
      "outputs": [],
      "source": [
        "#Creating a list of classifier models\n",
        "names = ['Logistic Regression', \"KNN\", \"Linear SVM\",\"Gradient Boosting\", \"Decision Tree\", \"Random Forest\"]\n",
        "classifiers = [\n",
        "    LogisticRegression(solver='liblinear', class_weight=class_weights, random_state=42),\n",
        "    KNeighborsClassifier(n_neighbors=3, weights= 'distance'),\n",
        "    SVC(kernel=\"linear\", C=0.025, class_weight=class_weights, gamma='scale', random_state=42),\n",
        "    GradientBoostingClassifier(learning_rate=0.1, n_estimators=100, random_state=42),\n",
        "    DecisionTreeClassifier(ccp_alpha=0, max_depth=5, class_weight=class_weights, random_state=42),\n",
        "    RandomForestClassifier(min_samples_leaf=1, max_features=\"sqrt\", max_depth=5, n_estimators=100, class_weight=class_weights, random_state=42)\n",
        "    ]"
      ]
    },
    {
      "cell_type": "code",
      "execution_count": 19,
      "metadata": {
        "colab": {
          "base_uri": "https://localhost:8080/"
        },
        "id": "wNlUDfeTwxPR",
        "outputId": "beeb87cd-20e1-41a4-ac30-bb82576358d6"
      },
      "outputs": [
        {
          "data": {
            "application/vnd.microsoft.datawrangler.viewer.v0+json": {
              "columns": [
                {
                  "name": "index",
                  "rawType": "int64",
                  "type": "integer"
                },
                {
                  "name": "Name",
                  "rawType": "object",
                  "type": "string"
                },
                {
                  "name": "CV Mean score",
                  "rawType": "float64",
                  "type": "float"
                }
              ],
              "conversionMethod": "pd.DataFrame",
              "ref": "8f6b4f59-778d-4c87-875d-3378ff70251d",
              "rows": [
                [
                  "0",
                  "Logistic Regression",
                  "0.976"
                ],
                [
                  "3",
                  "Gradient Boosting",
                  "0.956"
                ],
                [
                  "5",
                  "Random Forest",
                  "0.956"
                ],
                [
                  "1",
                  "KNN",
                  "0.954"
                ],
                [
                  "2",
                  "Linear SVM",
                  "0.938"
                ],
                [
                  "4",
                  "Decision Tree",
                  "0.91"
                ]
              ],
              "shape": {
                "columns": 2,
                "rows": 6
              }
            },
            "text/html": [
              "<div>\n",
              "<style scoped>\n",
              "    .dataframe tbody tr th:only-of-type {\n",
              "        vertical-align: middle;\n",
              "    }\n",
              "\n",
              "    .dataframe tbody tr th {\n",
              "        vertical-align: top;\n",
              "    }\n",
              "\n",
              "    .dataframe thead th {\n",
              "        text-align: right;\n",
              "    }\n",
              "</style>\n",
              "<table border=\"1\" class=\"dataframe\">\n",
              "  <thead>\n",
              "    <tr style=\"text-align: right;\">\n",
              "      <th></th>\n",
              "      <th>Name</th>\n",
              "      <th>CV Mean score</th>\n",
              "    </tr>\n",
              "  </thead>\n",
              "  <tbody>\n",
              "    <tr>\n",
              "      <th>0</th>\n",
              "      <td>Logistic Regression</td>\n",
              "      <td>0.976</td>\n",
              "    </tr>\n",
              "    <tr>\n",
              "      <th>3</th>\n",
              "      <td>Gradient Boosting</td>\n",
              "      <td>0.956</td>\n",
              "    </tr>\n",
              "    <tr>\n",
              "      <th>5</th>\n",
              "      <td>Random Forest</td>\n",
              "      <td>0.956</td>\n",
              "    </tr>\n",
              "    <tr>\n",
              "      <th>1</th>\n",
              "      <td>KNN</td>\n",
              "      <td>0.954</td>\n",
              "    </tr>\n",
              "    <tr>\n",
              "      <th>2</th>\n",
              "      <td>Linear SVM</td>\n",
              "      <td>0.938</td>\n",
              "    </tr>\n",
              "    <tr>\n",
              "      <th>4</th>\n",
              "      <td>Decision Tree</td>\n",
              "      <td>0.910</td>\n",
              "    </tr>\n",
              "  </tbody>\n",
              "</table>\n",
              "</div>"
            ],
            "text/plain": [
              "                  Name  CV Mean score\n",
              "0  Logistic Regression          0.976\n",
              "3    Gradient Boosting          0.956\n",
              "5        Random Forest          0.956\n",
              "1                  KNN          0.954\n",
              "2           Linear SVM          0.938\n",
              "4        Decision Tree          0.910"
            ]
          },
          "execution_count": 19,
          "metadata": {},
          "output_type": "execute_result"
        }
      ],
      "source": [
        "X_train_scaled = MinMaxScaler().fit_transform(X_train)\n",
        "\n",
        "# Define the number of folds for cross-validation\n",
        "num_folds = 5  # You can adjust this as needed\n",
        "\n",
        "# Initialize an empty list to store scores\n",
        "scores = []\n",
        "\n",
        "for name, clf in zip(names, classifiers):\n",
        "    # Perform k-fold cross-validation and calculate the mean score\n",
        "    cv_scores = cross_val_score(clf, X_train_scaled, y_train, cv=num_folds)\n",
        "    mean_score = np.mean(cv_scores)\n",
        "    scores.append(mean_score)\n",
        "\n",
        "# Create a DataFrame to store the results\n",
        "scores_df = pd.DataFrame()\n",
        "scores_df['Name'] = names\n",
        "scores_df['CV Mean score'] = np.around(scores, 3)\n",
        "\n",
        "# Sort the DataFrame by score in descending order\n",
        "sorted_scores_df = scores_df.sort_values('CV Mean score', ascending=False)\n",
        "sorted_scores_df"
      ]
    },
    {
      "cell_type": "markdown",
      "metadata": {
        "id": "4pQk9GRM2WxZ"
      },
      "source": [
        "### Model accuracy and performance check"
      ]
    },
    {
      "cell_type": "code",
      "execution_count": null,
      "metadata": {},
      "outputs": [],
      "source": [
        "import dagshub\n",
        "dagshub.init(repo_owner='isaacmenchaca97', repo_name='breast_cancer_detection', mlflow=True)"
      ]
    },
    {
      "cell_type": "code",
      "execution_count": null,
      "metadata": {
        "colab": {
          "base_uri": "https://localhost:8080/",
          "height": 283
        },
        "id": "37HkAFBxkaTr",
        "outputId": "512cd273-d7b9-4f77-9714-beaeb1eb2a93"
      },
      "outputs": [
        {
          "data": {
            "text/html": [
              "<style>#sk-container-id-1 {\n",
              "  /* Definition of color scheme common for light and dark mode */\n",
              "  --sklearn-color-text: #000;\n",
              "  --sklearn-color-text-muted: #666;\n",
              "  --sklearn-color-line: gray;\n",
              "  /* Definition of color scheme for unfitted estimators */\n",
              "  --sklearn-color-unfitted-level-0: #fff5e6;\n",
              "  --sklearn-color-unfitted-level-1: #f6e4d2;\n",
              "  --sklearn-color-unfitted-level-2: #ffe0b3;\n",
              "  --sklearn-color-unfitted-level-3: chocolate;\n",
              "  /* Definition of color scheme for fitted estimators */\n",
              "  --sklearn-color-fitted-level-0: #f0f8ff;\n",
              "  --sklearn-color-fitted-level-1: #d4ebff;\n",
              "  --sklearn-color-fitted-level-2: #b3dbfd;\n",
              "  --sklearn-color-fitted-level-3: cornflowerblue;\n",
              "\n",
              "  /* Specific color for light theme */\n",
              "  --sklearn-color-text-on-default-background: var(--sg-text-color, var(--theme-code-foreground, var(--jp-content-font-color1, black)));\n",
              "  --sklearn-color-background: var(--sg-background-color, var(--theme-background, var(--jp-layout-color0, white)));\n",
              "  --sklearn-color-border-box: var(--sg-text-color, var(--theme-code-foreground, var(--jp-content-font-color1, black)));\n",
              "  --sklearn-color-icon: #696969;\n",
              "\n",
              "  @media (prefers-color-scheme: dark) {\n",
              "    /* Redefinition of color scheme for dark theme */\n",
              "    --sklearn-color-text-on-default-background: var(--sg-text-color, var(--theme-code-foreground, var(--jp-content-font-color1, white)));\n",
              "    --sklearn-color-background: var(--sg-background-color, var(--theme-background, var(--jp-layout-color0, #111)));\n",
              "    --sklearn-color-border-box: var(--sg-text-color, var(--theme-code-foreground, var(--jp-content-font-color1, white)));\n",
              "    --sklearn-color-icon: #878787;\n",
              "  }\n",
              "}\n",
              "\n",
              "#sk-container-id-1 {\n",
              "  color: var(--sklearn-color-text);\n",
              "}\n",
              "\n",
              "#sk-container-id-1 pre {\n",
              "  padding: 0;\n",
              "}\n",
              "\n",
              "#sk-container-id-1 input.sk-hidden--visually {\n",
              "  border: 0;\n",
              "  clip: rect(1px 1px 1px 1px);\n",
              "  clip: rect(1px, 1px, 1px, 1px);\n",
              "  height: 1px;\n",
              "  margin: -1px;\n",
              "  overflow: hidden;\n",
              "  padding: 0;\n",
              "  position: absolute;\n",
              "  width: 1px;\n",
              "}\n",
              "\n",
              "#sk-container-id-1 div.sk-dashed-wrapped {\n",
              "  border: 1px dashed var(--sklearn-color-line);\n",
              "  margin: 0 0.4em 0.5em 0.4em;\n",
              "  box-sizing: border-box;\n",
              "  padding-bottom: 0.4em;\n",
              "  background-color: var(--sklearn-color-background);\n",
              "}\n",
              "\n",
              "#sk-container-id-1 div.sk-container {\n",
              "  /* jupyter's `normalize.less` sets `[hidden] { display: none; }`\n",
              "     but bootstrap.min.css set `[hidden] { display: none !important; }`\n",
              "     so we also need the `!important` here to be able to override the\n",
              "     default hidden behavior on the sphinx rendered scikit-learn.org.\n",
              "     See: https://github.com/scikit-learn/scikit-learn/issues/21755 */\n",
              "  display: inline-block !important;\n",
              "  position: relative;\n",
              "}\n",
              "\n",
              "#sk-container-id-1 div.sk-text-repr-fallback {\n",
              "  display: none;\n",
              "}\n",
              "\n",
              "div.sk-parallel-item,\n",
              "div.sk-serial,\n",
              "div.sk-item {\n",
              "  /* draw centered vertical line to link estimators */\n",
              "  background-image: linear-gradient(var(--sklearn-color-text-on-default-background), var(--sklearn-color-text-on-default-background));\n",
              "  background-size: 2px 100%;\n",
              "  background-repeat: no-repeat;\n",
              "  background-position: center center;\n",
              "}\n",
              "\n",
              "/* Parallel-specific style estimator block */\n",
              "\n",
              "#sk-container-id-1 div.sk-parallel-item::after {\n",
              "  content: \"\";\n",
              "  width: 100%;\n",
              "  border-bottom: 2px solid var(--sklearn-color-text-on-default-background);\n",
              "  flex-grow: 1;\n",
              "}\n",
              "\n",
              "#sk-container-id-1 div.sk-parallel {\n",
              "  display: flex;\n",
              "  align-items: stretch;\n",
              "  justify-content: center;\n",
              "  background-color: var(--sklearn-color-background);\n",
              "  position: relative;\n",
              "}\n",
              "\n",
              "#sk-container-id-1 div.sk-parallel-item {\n",
              "  display: flex;\n",
              "  flex-direction: column;\n",
              "}\n",
              "\n",
              "#sk-container-id-1 div.sk-parallel-item:first-child::after {\n",
              "  align-self: flex-end;\n",
              "  width: 50%;\n",
              "}\n",
              "\n",
              "#sk-container-id-1 div.sk-parallel-item:last-child::after {\n",
              "  align-self: flex-start;\n",
              "  width: 50%;\n",
              "}\n",
              "\n",
              "#sk-container-id-1 div.sk-parallel-item:only-child::after {\n",
              "  width: 0;\n",
              "}\n",
              "\n",
              "/* Serial-specific style estimator block */\n",
              "\n",
              "#sk-container-id-1 div.sk-serial {\n",
              "  display: flex;\n",
              "  flex-direction: column;\n",
              "  align-items: center;\n",
              "  background-color: var(--sklearn-color-background);\n",
              "  padding-right: 1em;\n",
              "  padding-left: 1em;\n",
              "}\n",
              "\n",
              "\n",
              "/* Toggleable style: style used for estimator/Pipeline/ColumnTransformer box that is\n",
              "clickable and can be expanded/collapsed.\n",
              "- Pipeline and ColumnTransformer use this feature and define the default style\n",
              "- Estimators will overwrite some part of the style using the `sk-estimator` class\n",
              "*/\n",
              "\n",
              "/* Pipeline and ColumnTransformer style (default) */\n",
              "\n",
              "#sk-container-id-1 div.sk-toggleable {\n",
              "  /* Default theme specific background. It is overwritten whether we have a\n",
              "  specific estimator or a Pipeline/ColumnTransformer */\n",
              "  background-color: var(--sklearn-color-background);\n",
              "}\n",
              "\n",
              "/* Toggleable label */\n",
              "#sk-container-id-1 label.sk-toggleable__label {\n",
              "  cursor: pointer;\n",
              "  display: flex;\n",
              "  width: 100%;\n",
              "  margin-bottom: 0;\n",
              "  padding: 0.5em;\n",
              "  box-sizing: border-box;\n",
              "  text-align: center;\n",
              "  align-items: start;\n",
              "  justify-content: space-between;\n",
              "  gap: 0.5em;\n",
              "}\n",
              "\n",
              "#sk-container-id-1 label.sk-toggleable__label .caption {\n",
              "  font-size: 0.6rem;\n",
              "  font-weight: lighter;\n",
              "  color: var(--sklearn-color-text-muted);\n",
              "}\n",
              "\n",
              "#sk-container-id-1 label.sk-toggleable__label-arrow:before {\n",
              "  /* Arrow on the left of the label */\n",
              "  content: \"▸\";\n",
              "  float: left;\n",
              "  margin-right: 0.25em;\n",
              "  color: var(--sklearn-color-icon);\n",
              "}\n",
              "\n",
              "#sk-container-id-1 label.sk-toggleable__label-arrow:hover:before {\n",
              "  color: var(--sklearn-color-text);\n",
              "}\n",
              "\n",
              "/* Toggleable content - dropdown */\n",
              "\n",
              "#sk-container-id-1 div.sk-toggleable__content {\n",
              "  max-height: 0;\n",
              "  max-width: 0;\n",
              "  overflow: hidden;\n",
              "  text-align: left;\n",
              "  /* unfitted */\n",
              "  background-color: var(--sklearn-color-unfitted-level-0);\n",
              "}\n",
              "\n",
              "#sk-container-id-1 div.sk-toggleable__content.fitted {\n",
              "  /* fitted */\n",
              "  background-color: var(--sklearn-color-fitted-level-0);\n",
              "}\n",
              "\n",
              "#sk-container-id-1 div.sk-toggleable__content pre {\n",
              "  margin: 0.2em;\n",
              "  border-radius: 0.25em;\n",
              "  color: var(--sklearn-color-text);\n",
              "  /* unfitted */\n",
              "  background-color: var(--sklearn-color-unfitted-level-0);\n",
              "}\n",
              "\n",
              "#sk-container-id-1 div.sk-toggleable__content.fitted pre {\n",
              "  /* unfitted */\n",
              "  background-color: var(--sklearn-color-fitted-level-0);\n",
              "}\n",
              "\n",
              "#sk-container-id-1 input.sk-toggleable__control:checked~div.sk-toggleable__content {\n",
              "  /* Expand drop-down */\n",
              "  max-height: 200px;\n",
              "  max-width: 100%;\n",
              "  overflow: auto;\n",
              "}\n",
              "\n",
              "#sk-container-id-1 input.sk-toggleable__control:checked~label.sk-toggleable__label-arrow:before {\n",
              "  content: \"▾\";\n",
              "}\n",
              "\n",
              "/* Pipeline/ColumnTransformer-specific style */\n",
              "\n",
              "#sk-container-id-1 div.sk-label input.sk-toggleable__control:checked~label.sk-toggleable__label {\n",
              "  color: var(--sklearn-color-text);\n",
              "  background-color: var(--sklearn-color-unfitted-level-2);\n",
              "}\n",
              "\n",
              "#sk-container-id-1 div.sk-label.fitted input.sk-toggleable__control:checked~label.sk-toggleable__label {\n",
              "  background-color: var(--sklearn-color-fitted-level-2);\n",
              "}\n",
              "\n",
              "/* Estimator-specific style */\n",
              "\n",
              "/* Colorize estimator box */\n",
              "#sk-container-id-1 div.sk-estimator input.sk-toggleable__control:checked~label.sk-toggleable__label {\n",
              "  /* unfitted */\n",
              "  background-color: var(--sklearn-color-unfitted-level-2);\n",
              "}\n",
              "\n",
              "#sk-container-id-1 div.sk-estimator.fitted input.sk-toggleable__control:checked~label.sk-toggleable__label {\n",
              "  /* fitted */\n",
              "  background-color: var(--sklearn-color-fitted-level-2);\n",
              "}\n",
              "\n",
              "#sk-container-id-1 div.sk-label label.sk-toggleable__label,\n",
              "#sk-container-id-1 div.sk-label label {\n",
              "  /* The background is the default theme color */\n",
              "  color: var(--sklearn-color-text-on-default-background);\n",
              "}\n",
              "\n",
              "/* On hover, darken the color of the background */\n",
              "#sk-container-id-1 div.sk-label:hover label.sk-toggleable__label {\n",
              "  color: var(--sklearn-color-text);\n",
              "  background-color: var(--sklearn-color-unfitted-level-2);\n",
              "}\n",
              "\n",
              "/* Label box, darken color on hover, fitted */\n",
              "#sk-container-id-1 div.sk-label.fitted:hover label.sk-toggleable__label.fitted {\n",
              "  color: var(--sklearn-color-text);\n",
              "  background-color: var(--sklearn-color-fitted-level-2);\n",
              "}\n",
              "\n",
              "/* Estimator label */\n",
              "\n",
              "#sk-container-id-1 div.sk-label label {\n",
              "  font-family: monospace;\n",
              "  font-weight: bold;\n",
              "  display: inline-block;\n",
              "  line-height: 1.2em;\n",
              "}\n",
              "\n",
              "#sk-container-id-1 div.sk-label-container {\n",
              "  text-align: center;\n",
              "}\n",
              "\n",
              "/* Estimator-specific */\n",
              "#sk-container-id-1 div.sk-estimator {\n",
              "  font-family: monospace;\n",
              "  border: 1px dotted var(--sklearn-color-border-box);\n",
              "  border-radius: 0.25em;\n",
              "  box-sizing: border-box;\n",
              "  margin-bottom: 0.5em;\n",
              "  /* unfitted */\n",
              "  background-color: var(--sklearn-color-unfitted-level-0);\n",
              "}\n",
              "\n",
              "#sk-container-id-1 div.sk-estimator.fitted {\n",
              "  /* fitted */\n",
              "  background-color: var(--sklearn-color-fitted-level-0);\n",
              "}\n",
              "\n",
              "/* on hover */\n",
              "#sk-container-id-1 div.sk-estimator:hover {\n",
              "  /* unfitted */\n",
              "  background-color: var(--sklearn-color-unfitted-level-2);\n",
              "}\n",
              "\n",
              "#sk-container-id-1 div.sk-estimator.fitted:hover {\n",
              "  /* fitted */\n",
              "  background-color: var(--sklearn-color-fitted-level-2);\n",
              "}\n",
              "\n",
              "/* Specification for estimator info (e.g. \"i\" and \"?\") */\n",
              "\n",
              "/* Common style for \"i\" and \"?\" */\n",
              "\n",
              ".sk-estimator-doc-link,\n",
              "a:link.sk-estimator-doc-link,\n",
              "a:visited.sk-estimator-doc-link {\n",
              "  float: right;\n",
              "  font-size: smaller;\n",
              "  line-height: 1em;\n",
              "  font-family: monospace;\n",
              "  background-color: var(--sklearn-color-background);\n",
              "  border-radius: 1em;\n",
              "  height: 1em;\n",
              "  width: 1em;\n",
              "  text-decoration: none !important;\n",
              "  margin-left: 0.5em;\n",
              "  text-align: center;\n",
              "  /* unfitted */\n",
              "  border: var(--sklearn-color-unfitted-level-1) 1pt solid;\n",
              "  color: var(--sklearn-color-unfitted-level-1);\n",
              "}\n",
              "\n",
              ".sk-estimator-doc-link.fitted,\n",
              "a:link.sk-estimator-doc-link.fitted,\n",
              "a:visited.sk-estimator-doc-link.fitted {\n",
              "  /* fitted */\n",
              "  border: var(--sklearn-color-fitted-level-1) 1pt solid;\n",
              "  color: var(--sklearn-color-fitted-level-1);\n",
              "}\n",
              "\n",
              "/* On hover */\n",
              "div.sk-estimator:hover .sk-estimator-doc-link:hover,\n",
              ".sk-estimator-doc-link:hover,\n",
              "div.sk-label-container:hover .sk-estimator-doc-link:hover,\n",
              ".sk-estimator-doc-link:hover {\n",
              "  /* unfitted */\n",
              "  background-color: var(--sklearn-color-unfitted-level-3);\n",
              "  color: var(--sklearn-color-background);\n",
              "  text-decoration: none;\n",
              "}\n",
              "\n",
              "div.sk-estimator.fitted:hover .sk-estimator-doc-link.fitted:hover,\n",
              ".sk-estimator-doc-link.fitted:hover,\n",
              "div.sk-label-container:hover .sk-estimator-doc-link.fitted:hover,\n",
              ".sk-estimator-doc-link.fitted:hover {\n",
              "  /* fitted */\n",
              "  background-color: var(--sklearn-color-fitted-level-3);\n",
              "  color: var(--sklearn-color-background);\n",
              "  text-decoration: none;\n",
              "}\n",
              "\n",
              "/* Span, style for the box shown on hovering the info icon */\n",
              ".sk-estimator-doc-link span {\n",
              "  display: none;\n",
              "  z-index: 9999;\n",
              "  position: relative;\n",
              "  font-weight: normal;\n",
              "  right: .2ex;\n",
              "  padding: .5ex;\n",
              "  margin: .5ex;\n",
              "  width: min-content;\n",
              "  min-width: 20ex;\n",
              "  max-width: 50ex;\n",
              "  color: var(--sklearn-color-text);\n",
              "  box-shadow: 2pt 2pt 4pt #999;\n",
              "  /* unfitted */\n",
              "  background: var(--sklearn-color-unfitted-level-0);\n",
              "  border: .5pt solid var(--sklearn-color-unfitted-level-3);\n",
              "}\n",
              "\n",
              ".sk-estimator-doc-link.fitted span {\n",
              "  /* fitted */\n",
              "  background: var(--sklearn-color-fitted-level-0);\n",
              "  border: var(--sklearn-color-fitted-level-3);\n",
              "}\n",
              "\n",
              ".sk-estimator-doc-link:hover span {\n",
              "  display: block;\n",
              "}\n",
              "\n",
              "/* \"?\"-specific style due to the `<a>` HTML tag */\n",
              "\n",
              "#sk-container-id-1 a.estimator_doc_link {\n",
              "  float: right;\n",
              "  font-size: 1rem;\n",
              "  line-height: 1em;\n",
              "  font-family: monospace;\n",
              "  background-color: var(--sklearn-color-background);\n",
              "  border-radius: 1rem;\n",
              "  height: 1rem;\n",
              "  width: 1rem;\n",
              "  text-decoration: none;\n",
              "  /* unfitted */\n",
              "  color: var(--sklearn-color-unfitted-level-1);\n",
              "  border: var(--sklearn-color-unfitted-level-1) 1pt solid;\n",
              "}\n",
              "\n",
              "#sk-container-id-1 a.estimator_doc_link.fitted {\n",
              "  /* fitted */\n",
              "  border: var(--sklearn-color-fitted-level-1) 1pt solid;\n",
              "  color: var(--sklearn-color-fitted-level-1);\n",
              "}\n",
              "\n",
              "/* On hover */\n",
              "#sk-container-id-1 a.estimator_doc_link:hover {\n",
              "  /* unfitted */\n",
              "  background-color: var(--sklearn-color-unfitted-level-3);\n",
              "  color: var(--sklearn-color-background);\n",
              "  text-decoration: none;\n",
              "}\n",
              "\n",
              "#sk-container-id-1 a.estimator_doc_link.fitted:hover {\n",
              "  /* fitted */\n",
              "  background-color: var(--sklearn-color-fitted-level-3);\n",
              "}\n",
              "</style><div id=\"sk-container-id-1\" class=\"sk-top-container\"><div class=\"sk-text-repr-fallback\"><pre>Pipeline(steps=[(&#x27;minmaxscaler&#x27;, MinMaxScaler()), (&#x27;pca&#x27;, PCA(n_components=5)),\n",
              "                (&#x27;logisticregression&#x27;,\n",
              "                 LogisticRegression(class_weight={np.int64(0): np.float64(1.684),\n",
              "                                                  np.int64(1): np.float64(1.0)},\n",
              "                                    random_state=42, solver=&#x27;liblinear&#x27;))])</pre><b>In a Jupyter environment, please rerun this cell to show the HTML representation or trust the notebook. <br />On GitHub, the HTML representation is unable to render, please try loading this page with nbviewer.org.</b></div><div class=\"sk-container\" hidden><div class=\"sk-item sk-dashed-wrapped\"><div class=\"sk-label-container\"><div class=\"sk-label fitted sk-toggleable\"><input class=\"sk-toggleable__control sk-hidden--visually\" id=\"sk-estimator-id-1\" type=\"checkbox\" ><label for=\"sk-estimator-id-1\" class=\"sk-toggleable__label fitted sk-toggleable__label-arrow\"><div><div>Pipeline</div></div><div><a class=\"sk-estimator-doc-link fitted\" rel=\"noreferrer\" target=\"_blank\" href=\"https://scikit-learn.org/1.6/modules/generated/sklearn.pipeline.Pipeline.html\">?<span>Documentation for Pipeline</span></a><span class=\"sk-estimator-doc-link fitted\">i<span>Fitted</span></span></div></label><div class=\"sk-toggleable__content fitted\"><pre>Pipeline(steps=[(&#x27;minmaxscaler&#x27;, MinMaxScaler()), (&#x27;pca&#x27;, PCA(n_components=5)),\n",
              "                (&#x27;logisticregression&#x27;,\n",
              "                 LogisticRegression(class_weight={np.int64(0): np.float64(1.684),\n",
              "                                                  np.int64(1): np.float64(1.0)},\n",
              "                                    random_state=42, solver=&#x27;liblinear&#x27;))])</pre></div> </div></div><div class=\"sk-serial\"><div class=\"sk-item\"><div class=\"sk-estimator fitted sk-toggleable\"><input class=\"sk-toggleable__control sk-hidden--visually\" id=\"sk-estimator-id-2\" type=\"checkbox\" ><label for=\"sk-estimator-id-2\" class=\"sk-toggleable__label fitted sk-toggleable__label-arrow\"><div><div>MinMaxScaler</div></div><div><a class=\"sk-estimator-doc-link fitted\" rel=\"noreferrer\" target=\"_blank\" href=\"https://scikit-learn.org/1.6/modules/generated/sklearn.preprocessing.MinMaxScaler.html\">?<span>Documentation for MinMaxScaler</span></a></div></label><div class=\"sk-toggleable__content fitted\"><pre>MinMaxScaler()</pre></div> </div></div><div class=\"sk-item\"><div class=\"sk-estimator fitted sk-toggleable\"><input class=\"sk-toggleable__control sk-hidden--visually\" id=\"sk-estimator-id-3\" type=\"checkbox\" ><label for=\"sk-estimator-id-3\" class=\"sk-toggleable__label fitted sk-toggleable__label-arrow\"><div><div>PCA</div></div><div><a class=\"sk-estimator-doc-link fitted\" rel=\"noreferrer\" target=\"_blank\" href=\"https://scikit-learn.org/1.6/modules/generated/sklearn.decomposition.PCA.html\">?<span>Documentation for PCA</span></a></div></label><div class=\"sk-toggleable__content fitted\"><pre>PCA(n_components=5)</pre></div> </div></div><div class=\"sk-item\"><div class=\"sk-estimator fitted sk-toggleable\"><input class=\"sk-toggleable__control sk-hidden--visually\" id=\"sk-estimator-id-4\" type=\"checkbox\" ><label for=\"sk-estimator-id-4\" class=\"sk-toggleable__label fitted sk-toggleable__label-arrow\"><div><div>LogisticRegression</div></div><div><a class=\"sk-estimator-doc-link fitted\" rel=\"noreferrer\" target=\"_blank\" href=\"https://scikit-learn.org/1.6/modules/generated/sklearn.linear_model.LogisticRegression.html\">?<span>Documentation for LogisticRegression</span></a></div></label><div class=\"sk-toggleable__content fitted\"><pre>LogisticRegression(class_weight={np.int64(0): np.float64(1.684),\n",
              "                                 np.int64(1): np.float64(1.0)},\n",
              "                   random_state=42, solver=&#x27;liblinear&#x27;)</pre></div> </div></div></div></div></div></div>"
            ],
            "text/plain": [
              "Pipeline(steps=[('minmaxscaler', MinMaxScaler()), ('pca', PCA(n_components=5)),\n",
              "                ('logisticregression',\n",
              "                 LogisticRegression(class_weight={np.int64(0): np.float64(1.684),\n",
              "                                                  np.int64(1): np.float64(1.0)},\n",
              "                                    random_state=42, solver='liblinear'))])"
            ]
          },
          "execution_count": 20,
          "metadata": {},
          "output_type": "execute_result"
        }
      ],
      "source": [
        "mlflow.sklearn.autolog()\n",
        "mlflow.set_experiment(\"Breast Cancer Classification\")\n",
        "\n",
        "with mlflow.start_run():\n",
        "    model_pipeline = make_pipeline(\n",
        "        MinMaxScaler(),\n",
        "        PCA(n_components=n_pca, random_state=42),\n",
        "        LogisticRegression(solver='liblinear', class_weight=class_weights, random_state=42),\n",
        "        memory=None\n",
        "        )\n",
        "\n",
        "    model_pipeline.fit(X_train, y_train)"
      ]
    },
    {
      "cell_type": "code",
      "execution_count": null,
      "metadata": {
        "colab": {
          "base_uri": "https://localhost:8080/",
          "height": 415
        },
        "id": "SMQh_daP2cwo",
        "outputId": "64ae5dd4-8f25-4774-e3b6-e4be373a3652"
      },
      "outputs": [
        {
          "data": {
            "image/png": "[encoded data removed]",
            "text/plain": [
              "<Figure size 800x400 with 2 Axes>"
            ]
          },
          "metadata": {},
          "output_type": "display_data"
        }
      ],
      "source": [
        "#making the predictions\n",
        "y_pred = model_pipeline.predict(X_test)\n",
        "\n",
        "#Creating the confusion matrix\n",
        "confusionmatrix = np.around(confusion_matrix(y_test, y_pred, normalize='true'),3)\n",
        "\n",
        "#Plotting the Confusion Matrix\n",
        "plt.figure(figsize=(8, 4))\n",
        "sns.heatmap(confusionmatrix, annot=True, fmt='.3g', cmap='Blues')\n",
        "plt.xlabel(\"Predicted\")\n",
        "plt.ylabel(\"Actual\")\n",
        "plt.title(\"Confusion Matrix\")\n",
        "plt.savefig(\"DataBase/confusion_matrix.png\")"
      ]
    },
    {
      "cell_type": "code",
      "execution_count": 34,
      "metadata": {
        "colab": {
          "base_uri": "https://localhost:8080/",
          "height": 477
        },
        "id": "-Ob6vmsb6bhy",
        "outputId": "4b2d318c-3cbd-488a-e2a3-0b1b8acc719a"
      },
      "outputs": [
        {
          "data": {
            "image/png": "[encoded data removed]",
            "text/plain": [
              "<Figure size 640x480 with 1 Axes>"
            ]
          },
          "metadata": {},
          "output_type": "display_data"
        }
      ],
      "source": [
        "# Assuming you have your model predictions and true labels\n",
        "fpr, tpr, thresholds = roc_curve(y_test, y_pred)\n",
        "\n",
        "# Calculate AUC (Area Under the ROC Curve)\n",
        "auc = roc_auc_score(y_test, y_pred)\n",
        "\n",
        "# Plot the ROC curve\n",
        "plt.figure()\n",
        "plt.plot(fpr, tpr, label='ROC curve (AUC = {:.2f})'.format(auc), color='orange')\n",
        "plt.plot([0, 1], [0, 1], 'k--')  # Random guessing line\n",
        "plt.xlim([0.0, 1.0])\n",
        "plt.ylim([0.0, 1.05])\n",
        "\n",
        "plt.gca().spines['top'].set_visible(False)\n",
        "plt.gca().spines['right'].set_visible(False)\n",
        "plt.xlabel('False Positive Rate')\n",
        "plt.ylabel('True Positive Rate')\n",
        "plt.title('Test Set ROC Curve')\n",
        "plt.legend(loc=\"lower right\")\n",
        "plt.savefig(\"DataBase/roc_curve.png\")\n",
        "plt.show()"
      ]
    },
    {
      "cell_type": "code",
      "execution_count": 23,
      "metadata": {
        "colab": {
          "base_uri": "https://localhost:8080/"
        },
        "id": "0QZlbUBi7Mbx",
        "outputId": "3c34ec61-9492-487c-f9c0-0978d3479b08"
      },
      "outputs": [
        {
          "name": "stdout",
          "output_type": "stream",
          "text": [
            "              precision    recall  f1-score   support\n",
            "\n",
            "           0       0.93      0.95      0.94        43\n",
            "           1       0.97      0.96      0.96        71\n",
            "\n",
            "    accuracy                           0.96       114\n",
            "   macro avg       0.95      0.96      0.95       114\n",
            "weighted avg       0.96      0.96      0.96       114\n",
            "\n"
          ]
        }
      ],
      "source": [
        "print(classification_report(y_test, y_pred))"
      ]
    },
    {
      "cell_type": "code",
      "execution_count": 24,
      "metadata": {
        "colab": {
          "base_uri": "https://localhost:8080/"
        },
        "id": "xT6rdw0C7aCv",
        "outputId": "28d7ad16-4a76-4ba0-e3c7-a2ee97edb5c7"
      },
      "outputs": [
        {
          "name": "stdout",
          "output_type": "stream",
          "text": [
            "5 out of 114 cases were misclassified, Error rate : 4.386%.\n"
          ]
        }
      ],
      "source": [
        "misclassified_count = np.sum(y_test != y_pred)\n",
        "total_cases = len(y_test)\n",
        "error_rate = np.around((misclassified_count / total_cases) * 100, 3)\n",
        "\n",
        "print(f\"{misclassified_count} out of {total_cases} cases were misclassified, Error rate : {error_rate}%.\")"
      ]
    },
    {
      "cell_type": "markdown",
      "metadata": {
        "id": "B0v0du3kvBwH"
      },
      "source": [
        "### MLFlow"
      ]
    },
    {
      "cell_type": "code",
      "execution_count": null,
      "metadata": {},
      "outputs": [],
      "source": [
        "import dagshub\n",
        "dagshub.init(repo_owner='isaacmenchaca97', repo_name='breast_cancer_detection', mlflow=True)"
      ]
    },
    {
      "cell_type": "code",
      "execution_count": 32,
      "metadata": {
        "id": "1KPx9b19vNNQ"
      },
      "outputs": [],
      "source": [
        "# Metrics\n",
        "accuracy = accuracy_score(y_test, y_pred)\n",
        "precision = precision_score(y_test, y_pred)\n",
        "recall = recall_score(y_test, y_pred)\n",
        "f1 = f1_score(y_test, y_pred)\n",
        "roc_auc = roc_auc_score(y_test, y_pred)"
      ]
    },
    {
      "cell_type": "code",
      "execution_count": 35,
      "metadata": {
        "colab": {
          "base_uri": "https://localhost:8080/"
        },
        "id": "m5s39zvRxp4g",
        "outputId": "c7a1cbfb-11a6-4d4b-cd3a-a30ccd54321e"
      },
      "outputs": [
        {
          "name": "stderr",
          "output_type": "stream",
          "text": [
            "/Users/isaacmenchacapanecatl/Documents/breast_cancer_detection/.venv/lib/python3.9/site-packages/mlflow/types/utils.py:452: UserWarning: Hint: Inferred schema contains integer column(s). Integer columns in Python cannot represent missing values. If your input data contains missing values at inference time, it will be encoded as floats and will cause a schema enforcement error. The best way to avoid this problem is to infer the model schema based on a realistic data sample (training dataset) that includes missing values. Alternatively, you can declare integer columns as doubles (float64) whenever these columns may have missing values. See `Handling Integers With Missing Values <https://www.mlflow.org/docs/latest/models.html#handling-integers-with-missing-values>`_ for more details.\n",
            "  warnings.warn(\n"
          ]
        }
      ],
      "source": [
        "mlflow.set_experiment(\"Breast Cancer Classification\")\n",
        "\n",
        "with mlflow.start_run():\n",
        "  # Register parameters\n",
        "  mlflow.log_param(\"n_components\", n_pca)\n",
        "  mlflow.log_param(\"solver\", \"liblinear\")\n",
        "\n",
        "  # Register metrics\n",
        "  mlflow.log_metric(\"Accuracy\", accuracy)\n",
        "  mlflow.log_metric(\"Precision\", precision)\n",
        "  mlflow.log_metric(\"Recall\", recall)\n",
        "  mlflow.log_metric(\"F1 Score\", f1)\n",
        "  mlflow.log_metric(\"ROC AUC\", roc_auc)\n",
        "\n",
        "  # Load graphics\n",
        "  mlflow.log_artifact(\"DataBase/confusion_matrix.png\")\n",
        "  mlflow.log_artifact(\"DataBase/roc_curve.png\")\n",
        "\n",
        "  # Register model\n",
        "  mlflow.sklearn.log_model(model_pipeline, \"model_cancer_classification\", input_example=X_train.iloc[:2])"
      ]
    }
  ],
  "metadata": {
    "colab": {
      "include_colab_link": true,
      "provenance": []
    },
    "kernelspec": {
      "display_name": ".venv",
      "language": "python",
      "name": "python3"
    },
    "language_info": {
      "codemirror_mode": {
        "name": "ipython",
        "version": 3
      },
      "file_extension": ".py",
      "mimetype": "text/x-python",
      "name": "python",
      "nbconvert_exporter": "python",
      "pygments_lexer": "ipython3",
      "version": "3.9.6"
    }
  },
  "nbformat": 4,
  "nbformat_minor": 0
}
